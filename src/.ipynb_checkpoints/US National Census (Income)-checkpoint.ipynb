{
 "cells": [
  {
   "cell_type": "markdown",
   "metadata": {},
   "source": [
    "## US National Census (Income)\n",
    "\n",
    "*About this Dataset*\n",
    "\n",
    "**US Adult Census** (1994) relates income to social factors: \n",
    "\n",
    "- *age*: continuous.\n",
    "- *workclass*: Private, Self-emp-not-inc, Self-emp-inc, Federal-gov, Local-gov, State-gov, Without-pay, Never-worked.\n",
    "- *fnlwgt*: continuous.\n",
    "- *education*: Bachelors, Some-college, 11th, HS-grad, Prof-school, Assoc-acdm, Assoc-voc, 9th, 7th-8th, 12th, Masters, 1st-4th, 10th, Doctorate, 5th-6th, Preschool.\n",
    "- *education-num*: continuous.\n",
    "- *marital-status*: Married-civ-spouse, Divorced, Never-married, Separated, Widowed, Married-spouse-absent, Married-AF-spouse.\n",
    "- *occupation*: Tech-support, Craft-repair, Other-service, Sales, Exec-managerial, Prof-specialty, Handlers-cleaners, Machine-op-inspct, Adm-clerical, Farming-fishing, Transport-moving, Priv-house-serv, Protective-serv, Armed-Forces.\n",
    "- *relationship*: Wife, Own-child, Husband, Not-in-family, Other-relative, Unmarried.\n",
    "- *race*: White, Asian-Pac-Islander, Amer-Indian-Eskimo, Other, Black.\n",
    "- *sex*: Female, Male.\n",
    "- *capital-gain*: continuous.\n",
    "- *capital-loss*: continuous.\n",
    "- *hours-per-week*: continuous.\n",
    "- *native-country*: United-States, Cambodia, England, Puerto-Rico, Canada, Germany, Outlying-US(Guam-USVI-etc), India, Japan, Greece, South, China, Cuba, Iran, Honduras, Philippines, Italy, Poland, Jamaica, Vietnam, Mexico, Portugal, Ireland, France, Dominican-Republic, Laos, Ecuador, Taiwan, Haiti, Columbia, Hungary, Guatemala, Nicaragua, Scotland, Thailand, Yugoslavia, El-Salvador, Trinadad&Tobago, Peru, Hong, Holand-Netherlands.\n",
    "\n",
    "Each row is labelled as either having a salary greater than \">50K\" or \"<=50K\".\n",
    "\n",
    "Note: This Dataset was obtained from the UCI repository, it can be found on\n",
    "\n",
    "https://archive.ics.uci.edu/ml/datasets/census+income, http://mlr.cs.umass.edu/ml/machine-learning-databases/adult/\n",
    "\n",
    "### Preprocessing"
   ]
  },
  {
   "cell_type": "code",
   "execution_count": 1,
   "metadata": {},
   "outputs": [],
   "source": [
    "from pathlib import Path\n",
    "import os\n",
    "import pandas as pd\n",
    "import numpy as np\n",
    "np.seterr(divide = 'ignore')\n",
    "import seaborn as sns; sns.set()\n",
    "import matplotlib.pyplot as plt\n",
    "\n",
    "from sklearn.ensemble import RandomForestClassifier\n",
    "from sklearn import metrics\n",
    "from sklearn.metrics import classification_report\n",
    "from sklearn.model_selection import cross_val_predict\n",
    "from scipy import stats\n",
    "\n",
    "def sample(softmax, temperature):\n",
    "\n",
    "    EPSILON = 10e-16 # to avoid taking the log of zero\n",
    "    softmax = (np.array(softmax) + EPSILON).astype('float64')\n",
    "    \n",
    "    preds = np.log(softmax) / temperature\n",
    "    exp_preds = np.exp(preds)\n",
    "    preds = exp_preds / np.sum(exp_preds)\n",
    "    probas = np.random.multinomial(1, preds, 1)\n",
    "\n",
    "    return probas[0]\n",
    "\n",
    "path = Path(os.getcwd()).parent\n",
    "\n",
    "columns = ['Age','Workclass','fnlgwt','Education','Education Num','Marital Status',\n",
    "           'Occupation','Relationship','Race','Sex','Capital Gain','Capital Loss',\n",
    "           'Hours/Week','Country','Above/Below 50K']\n",
    "\n",
    "train = pd.read_csv(os.path.join(path, 'data/census_income/adult.data'), names=columns)\n",
    "test = pd.read_csv(os.path.join(path, 'data/census_income/adult.test'), names=columns)\n",
    "test = test.iloc[1:] # drop first row from test set\n",
    "\n",
    "df = pd.concat([train, test])"
   ]
  },
  {
   "cell_type": "code",
   "execution_count": 2,
   "metadata": {},
   "outputs": [],
   "source": [
    "df.replace(' >50K.', ' >50K', inplace=True)\n",
    "df.replace(' <=50K.', ' <=50K', inplace=True)\n",
    "\n",
    "df.dropna()\n",
    "df.reset_index()\n",
    "\n",
    "ctg = ['Workclass', 'Sex', 'Education', 'Marital Status', \n",
    "       'Occupation', 'Relationship', 'Race', 'Country'] # Categorical to Numerical\n",
    "\n",
    "for c in ctg:\n",
    "    df = pd.concat([df, pd.get_dummies(df[c], \n",
    "                                       prefix=c,\n",
    "                                       dummy_na=False)], axis=1).drop([c],axis=1)\n",
    "\n",
    "df_high = df[df['Above/Below 50K'] == \" >50K\"].copy(deep=True)\n",
    "df_low = df[df['Above/Below 50K'] == \" <=50K\"].copy(deep=True)"
   ]
  },
  {
   "cell_type": "markdown",
   "metadata": {},
   "source": [
    "### Experiment\n",
    "\n",
    "- dropping only one instance at a time?\n",
    "- how to find a good temperature value?\n",
    "- https://www.sciencedirect.com/science/article/abs/pii/S0167865513000020\n"
   ]
  },
  {
   "cell_type": "code",
   "execution_count": 3,
   "metadata": {},
   "outputs": [
    {
     "name": "stdout",
     "output_type": "stream",
     "text": [
      " <=50K    37155\n",
      " >50K     11687\n",
      "Name: Above/Below 50K, dtype: int64\n",
      " <=50K    21000\n",
      " >50K     11687\n",
      "Name: Above/Below 50K, dtype: int64\n"
     ]
    }
   ],
   "source": [
    "# Randomize data\n",
    "df_low = df_low.reindex(np.random.permutation(df_low.index))\n",
    "df_high = df_high.reindex(np.random.permutation(df_high.index))\n",
    "\n",
    "rep = df.copy(deep=True)\n",
    "non_rep = pd.concat([df_low.head(21000).copy(deep=True),\n",
    "                     df_high.copy(deep=True)], sort=True)\n",
    "\n",
    "print(rep['Above/Below 50K'].value_counts())\n",
    "print(non_rep['Above/Below 50K'].value_counts())\n",
    "\n",
    "rep['label'] = 'rep'\n",
    "non_rep['label'] = 'nonrep'"
   ]
  },
  {
   "cell_type": "markdown",
   "metadata": {},
   "source": [
    "# MRS Algorithm"
   ]
  },
  {
   "cell_type": "code",
   "execution_count": null,
   "metadata": {
    "scrolled": true
   },
   "outputs": [],
   "source": [
    "data = pd.concat([rep, non_rep], sort=True).copy(deep=True)\n",
    "data.reset_index(drop=True, inplace=True)\n",
    "data['probs'] = len(data.label)*[0]\n",
    "\n",
    "temperature = 1 \n",
    "max_drop = 5000\n",
    "\n",
    "ks = []\n",
    "auc = []\n",
    "ratio = []\n",
    "subset = []\n",
    "\n",
    "while (len(data[data.label == 'nonrep']) > max_drop):\n",
    "\n",
    "    rf = RandomForestClassifier(n_estimators=200, \n",
    "                                bootstrap=True,\n",
    "                                max_depth=7,\n",
    "                                oob_score=True,\n",
    "                                n_jobs=-1)\n",
    "    \n",
    "    probs = cross_val_predict(rf,\n",
    "                              data.drop(['label', 'Above/Below 50K', 'probs'], axis=1),\n",
    "                              data['label'], \n",
    "                              cv=3,\n",
    "                              method='predict_proba')\n",
    "    \n",
    "    preds = cross_val_predict(rf,\n",
    "                              data.drop(['label', 'Above/Below 50K', 'probs'], axis=1),\n",
    "                              data['label'], \n",
    "                              cv=3)\n",
    "    \n",
    "    if preds[0] == 'nonrep' and round(probs[0][0], 0) == 1:\n",
    "        data['probs'] = [p[0] for p in probs]\n",
    "    else:\n",
    "        data['probs'] = [p[1] for p in probs]\n",
    "    \n",
    "    drop_id = []\n",
    "    for _ in range(max_drop):\n",
    "        softmax = sample(data[data.label == 'nonrep']['probs'], temperature)\n",
    "        drop = data[data.label == 'nonrep'].iloc[[np.argmax(softmax)]].index[0]\n",
    "        drop_id.append(drop)\n",
    "        \n",
    "    data.drop(data.index[drop_id], inplace=True)\n",
    "    data.reset_index(drop=True, inplace=True)\n",
    "\n",
    "    # EVALUATION\n",
    "    subset.append(len(data[data.label == 'nonrep']))\n",
    "    ratio.append(data[data.label == 'nonrep']['Above/Below 50K'].value_counts()[0]/\n",
    "                 data[data.label == 'nonrep']['Above/Below 50K'].value_counts()[1])\n",
    "    ks_two = stats.ks_2samp(data[data.label == 'nonrep']['probs'], data[data.label == 'rep']['probs'])\n",
    "    ks.append(ks_two)\n",
    "    auc.append(metrics.roc_auc_score([1 if k == 'nonrep' else 0 for k in data.label], data.probs))\n",
    "    \n",
    "    #print('auc =', metrics.roc_auc_score([1 if k == 'nonrep' else 0 for k in data.label], data.probs))\n",
    "    #print('length of current dataframe:', len(data.label))"
   ]
  },
  {
   "cell_type": "markdown",
   "metadata": {},
   "source": [
    "## Results\n",
    "\n",
    "**More/Less than 50K**\n",
    "\n",
    "**Representative Sample:**\n",
    "- more: 37155\n",
    "- less: 11687\n",
    "- 3.18 : 1\n",
    "\n",
    "\n",
    "**Non-Representative Sample:**\n",
    "- more: 21000\n",
    "- less: 11687\n",
    "- 1.80 : 1\n",
    "\n",
    "\n",
    "**MRS corrected Sample:**\n",
    "- more: 6363\n",
    "- less: 2542\n",
    "- 2.50 : 1"
   ]
  },
  {
   "cell_type": "code",
   "execution_count": null,
   "metadata": {},
   "outputs": [],
   "source": [
    "import seaborn as sns; sns.set()\n",
    "import matplotlib.pyplot as plt\n",
    "\n",
    "subset = [21000+11687-i for i in subset]"
   ]
  },
  {
   "cell_type": "code",
   "execution_count": null,
   "metadata": {},
   "outputs": [],
   "source": [
    "ax = sns.lineplot(x=subset, y=auc)\n",
    "plt.title('auc')\n",
    "plt.show()"
   ]
  },
  {
   "cell_type": "code",
   "execution_count": null,
   "metadata": {},
   "outputs": [],
   "source": [
    "ax = sns.lineplot(x=subset, y=ratio)\n",
    "ax = sns.lineplot(x=subset, y=len(ratio)*[3.18])\n",
    "\n",
    "plt.title('ratio')\n",
    "plt.show()"
   ]
  },
  {
   "cell_type": "code",
   "execution_count": null,
   "metadata": {},
   "outputs": [],
   "source": [
    "ax = sns.lineplot(x=subset, y=[a[0] for a in ks])\n",
    "plt.title('ks-stats')\n",
    "plt.show()"
   ]
  },
  {
   "cell_type": "code",
   "execution_count": null,
   "metadata": {},
   "outputs": [],
   "source": [
    "ax = sns.lineplot(x=subset, y=[a[1] for a in ks])\n",
    "plt.title('p-value')\n",
    "plt.show()"
   ]
  },
  {
   "cell_type": "code",
   "execution_count": null,
   "metadata": {},
   "outputs": [],
   "source": []
  }
 ],
 "metadata": {
  "kernelspec": {
   "display_name": "Python 3",
   "language": "python",
   "name": "python3"
  },
  "language_info": {
   "codemirror_mode": {
    "name": "ipython",
    "version": 3
   },
   "file_extension": ".py",
   "mimetype": "text/x-python",
   "name": "python",
   "nbconvert_exporter": "python",
   "pygments_lexer": "ipython3",
   "version": "3.6.5"
  }
 },
 "nbformat": 4,
 "nbformat_minor": 2
}

{
 "cells": [
  {
   "cell_type": "markdown",
   "metadata": {},
   "source": [
    "\n",
    "# Maximal Representative Subsampling\n"
   ]
  },
  {
   "cell_type": "markdown",
   "metadata": {},
   "source": [
    "<div class=\"alert alert- block alert-warning\"> <b>Update:</b> \n",
    "\n",
    " - einzelne ROC-curves prüfen/plotten.. (bei 0.5).\n",
    " - Zusammenfassung (pseudocode)\n",
    " - predict political participation. \n",
    "\n",
    "24.09 12 Uhr.\n",
    "\n",
    "</div>"
   ]
  },
  {
   "cell_type": "code",
   "execution_count": 23,
   "metadata": {},
   "outputs": [],
   "source": [
    "from pathlib import Path\n",
    "import os\n",
    "%config IPCompleter.greedy=True\n",
    "\n",
    "import matplotlib.pyplot as plt\n",
    "import pandas as pd\n",
    "pd.options.mode.chained_assignment = None\n",
    "import numpy as np\n",
    "np.seterr(divide = 'ignore')\n",
    "import random\n",
    "\n",
    "from sklearn.tree import DecisionTreeClassifier\n",
    "from sklearn.svm import LinearSVC\n",
    "from sklearn.calibration import CalibratedClassifierCV\n",
    "\n",
    "from sklearn.model_selection import train_test_split\n",
    "from sklearn.model_selection import GridSearchCV\n",
    "from sklearn.preprocessing import StandardScaler\n",
    "from sklearn.exceptions import DataConversionWarning\n",
    "#warnings.filterwarnings(action='ignore', category=DataConversionWarning)\n",
    "\n",
    "from sklearn.metrics import accuracy_score\n",
    "from sklearn import metrics\n",
    "from scipy import stats\n",
    "from sklearn.metrics import roc_curve  \n",
    "\n",
    "path = Path(os.getcwd()).parent"
   ]
  },
  {
   "cell_type": "markdown",
   "metadata": {},
   "source": [
    "## MRS ALGORITHM"
   ]
  },
  {
   "cell_type": "code",
   "execution_count": 2,
   "metadata": {},
   "outputs": [],
   "source": [
    "def temp_sample(softmax, temperature, drop):\n",
    "\n",
    "    EPSILON = 10e-16 # to avoid taking the log of zero\n",
    "    softmax = (np.array(softmax) + EPSILON).astype('float64')\n",
    "    \n",
    "    preds = np.log(softmax) / temperature\n",
    "    exp_preds = np.exp(preds)\n",
    "    preds = exp_preds / np.sum(exp_preds)\n",
    "    probas = np.random.multinomial(drop, preds, 1)\n",
    "\n",
    "    return probas[0]\n",
    "\n",
    "def plot_roc(fper, tper):  \n",
    "    plt.plot(fper, tper, color='orange', label='ROC')\n",
    "    plt.plot([0, 1], [0, 1], color='darkblue', linestyle='--')\n",
    "    plt.xlabel('False Positive Rate')\n",
    "    plt.ylabel('True Positive Rate')\n",
    "    plt.title('Receiver Operating Characteristic (ROC) Curve')\n",
    "    plt.legend()\n",
    "    plt.show()"
   ]
  },
  {
   "cell_type": "code",
   "execution_count": 3,
   "metadata": {},
   "outputs": [],
   "source": [
    "def _bootstrap(df, n):\n",
    "    train = df.sample(n, replace=True)\n",
    "    tmp = df.index.isin(train.index)\n",
    "    test = df[~tmp]\n",
    "    return train, test"
   ]
  },
  {
   "cell_type": "code",
   "execution_count": 4,
   "metadata": {},
   "outputs": [],
   "source": [
    "def MRS(nonrep, rep, columns, temperature, n_drop, limit, ensemble_size, C, k):\n",
    "    \n",
    "    auc = []\n",
    "    \n",
    "    nonrep['label'] = 1\n",
    "    rep['label'] = 0\n",
    "    \n",
    "    while (nonrep.shape[0] > limit):\n",
    "    \n",
    "        nonrep['__preds'] = 0\n",
    "        rep['__preds'] = 0\n",
    "    \n",
    "        nonrep['__count'] = 0\n",
    "        rep['__count'] = 0\n",
    "    \n",
    "        n = min(nonrep.shape[0], rep.shape[0])\n",
    "        print(n, end=', ')\n",
    "        \n",
    "        for _ in range(ensemble_size):\n",
    "\n",
    "            train_nonrep, test_nonrep = _bootstrap(nonrep, k*n)\n",
    "            train_rep, test_rep = _bootstrap(rep, k*n)\n",
    "            \n",
    "            train = pd.concat([train_nonrep, train_rep], sort=False)\n",
    "            test = pd.concat([test_nonrep, test_rep], sort=False)\n",
    "        \n",
    "            grid = GridSearchCV(LinearSVC(max_iter=1_000_000), param_grid={'C': C}, cv=5, iid=True)\n",
    "            grid.fit(train[columns], train.label)\n",
    "\n",
    "            #print('Best score for data1:', grid.best_score_) \n",
    "            #print('Best C:', grid.best_estimator_.C) \n",
    "            \n",
    "            linear_svc = LinearSVC(C=grid.best_estimator_.C, max_iter=1_000_000)\n",
    "            clf = CalibratedClassifierCV(linear_svc,\n",
    "                                         method='sigmoid',\n",
    "                                         cv=3)\n",
    "            clf.fit(train[columns], train.label)\n",
    "            \n",
    "            test['__preds'] = [i+j[1] for i,j in zip(test['__preds'], clf.predict_proba(test[columns]))]\n",
    "            test['__count'] = [i+1 for i in test['__count']]\n",
    "            \n",
    "            df = pd.concat([train.drop_duplicates(subset=train.columns, keep='first', inplace=False), test])\n",
    "            \n",
    "            nonrep = df[df.label == 1].copy(deep=True)\n",
    "            rep = df[df.label == 0].copy(deep=True)\n",
    "            \n",
    "            del train_nonrep, test_nonrep, train_rep, test_rep, train, test\n",
    "        \n",
    "        oosample = df[df.__count!=0] #predicted at least once\n",
    "        insample = df[df.__count==0] #only used to train\n",
    "        oosample['__preds'] = [i/j for i,j in zip(oosample['__preds'], oosample['__count'])]\n",
    "\n",
    "        auc.append((-n, metrics.roc_auc_score(oosample.label, oosample.__preds)))\n",
    "\n",
    "        if random.randrange(10) < 2: # plot a few curves\n",
    "                fper, tper, thresholds = roc_curve(oosample.label, oosample.__preds) \n",
    "                plot_roc(fper, tper)\n",
    "        \n",
    "        del oosample, insample\n",
    "        \n",
    "        drop = df[(df.__count!=0) & (df.label==1)]\n",
    "        keep = df[(df.__count==0) | (df.label==0)]\n",
    "        \n",
    "        drop['removed'] = temp_sample(drop.__preds, temperature, n_drop) \n",
    "        \n",
    "        drop = drop[drop.removed == 0]\n",
    "        drop.drop('removed', axis=1, inplace=True)\n",
    "        \n",
    "        df = pd.concat([drop, keep], sort=True)\n",
    "        df.reset_index(inplace=True, drop=True)\n",
    "        del drop, keep\n",
    "        \n",
    "        nonrep = df[df.label==1].copy(deep=True)\n",
    "        rep = df[df.label==0].copy(deep=True)\n",
    "        \n",
    "    return auc, nonrep"
   ]
  },
  {
   "cell_type": "markdown",
   "metadata": {},
   "source": [
    "### US National Census (Income) <a name=\"us\"></a>\n",
    "\n",
    "*About this Dataset*\n",
    "\n",
    "**US Adult Census** (1994) relates income to social factors: \n",
    "\n",
    "- *age*: continuous.\n",
    "- *workclass*: Private, Self-emp-not-inc, Self-emp-inc, Federal-gov, Local-gov, State-gov, Without-pay, Never-worked.\n",
    "- *fnlwgt*: continuous.\n",
    "- *education*: Bachelors, Some-college, 11th, HS-grad, Prof-school, Assoc-acdm, Assoc-voc, 9th, 7th-8th, 12th, Masters, 1st-4th, 10th, Doctorate, 5th-6th, Preschool.\n",
    "- *education-num*: continuous.\n",
    "- *marital-status*: Married-civ-spouse, Divorced, Never-married, Separated, Widowed, Married-spouse-absent, Married-AF-spouse.\n",
    "- *occupation*: Tech-support, Craft-repair, Other-service, Sales, Exec-managerial, Prof-specialty, Handlers-cleaners, Machine-op-inspct, Adm-clerical, Farming-fishing, Transport-moving, Priv-house-serv, Protective-serv, Armed-Forces.\n",
    "- *relationship*: Wife, Own-child, Husband, Not-in-family, Other-relative, Unmarried.\n",
    "- *race*: White, Asian-Pac-Islander, Amer-Indian-Eskimo, Other, Black.\n",
    "- *sex*: Female, Male.\n",
    "- *capital-gain*: continuous.\n",
    "- *capital-loss*: continuous.\n",
    "- *hours-per-week*: continuous.\n",
    "- *native-country*: United-States, Cambodia, England, Puerto-Rico, Canada, Germany, Outlying-US(Guam-USVI-etc), India, Japan, Greece, South, China, Cuba, Iran, Honduras, Philippines, Italy, Poland, Jamaica, Vietnam, Mexico, Portugal, Ireland, France, Dominican-Republic, Laos, Ecuador, Taiwan, Haiti, Columbia, Hungary, Guatemala, Nicaragua, Scotland, Thailand, Yugoslavia, El-Salvador, Trinadad&Tobago, Peru, Hong, Holand-Netherlands.\n",
    "\n",
    "Each row is labelled as either having a salary greater than \">50K\" or \"<=50K\".\n",
    "\n",
    "Note: This Dataset was obtained from the UCI repository, it can be found on\n",
    "\n",
    "https://archive.ics.uci.edu/ml/datasets/census+income, http://mlr.cs.umass.edu/ml/machine-learning-databases/adult/"
   ]
  },
  {
   "cell_type": "code",
   "execution_count": 5,
   "metadata": {},
   "outputs": [
    {
     "name": "stdout",
     "output_type": "stream",
     "text": [
      "Rep: \n",
      "  <=50K    5000\n",
      " >50K     5000\n",
      "Name: Above/Below 50K, dtype: int64 \n",
      "\n",
      "Nonrep: \n",
      "  <=50K    5000\n",
      " >50K     5000\n",
      "Name: Above/Below 50K, dtype: int64\n"
     ]
    },
    {
     "data": {
      "text/html": [
       "<div>\n",
       "<style scoped>\n",
       "    .dataframe tbody tr th:only-of-type {\n",
       "        vertical-align: middle;\n",
       "    }\n",
       "\n",
       "    .dataframe tbody tr th {\n",
       "        vertical-align: top;\n",
       "    }\n",
       "\n",
       "    .dataframe thead th {\n",
       "        text-align: right;\n",
       "    }\n",
       "</style>\n",
       "<table border=\"1\" class=\"dataframe\">\n",
       "  <thead>\n",
       "    <tr style=\"text-align: right;\">\n",
       "      <th></th>\n",
       "      <th>Above/Below 50K</th>\n",
       "      <th>Age</th>\n",
       "      <th>Capital Gain</th>\n",
       "      <th>Capital Loss</th>\n",
       "      <th>Country_ ?</th>\n",
       "      <th>Country_ Cambodia</th>\n",
       "      <th>Country_ Canada</th>\n",
       "      <th>Country_ China</th>\n",
       "      <th>Country_ Columbia</th>\n",
       "      <th>Country_ Cuba</th>\n",
       "      <th>...</th>\n",
       "      <th>Workclass_ Federal-gov</th>\n",
       "      <th>Workclass_ Local-gov</th>\n",
       "      <th>Workclass_ Never-worked</th>\n",
       "      <th>Workclass_ Private</th>\n",
       "      <th>Workclass_ Self-emp-inc</th>\n",
       "      <th>Workclass_ Self-emp-not-inc</th>\n",
       "      <th>Workclass_ State-gov</th>\n",
       "      <th>Workclass_ Without-pay</th>\n",
       "      <th>fnlgwt</th>\n",
       "      <th>label</th>\n",
       "    </tr>\n",
       "  </thead>\n",
       "  <tbody>\n",
       "    <tr>\n",
       "      <th>0</th>\n",
       "      <td>&lt;=50K</td>\n",
       "      <td>24</td>\n",
       "      <td>0.0</td>\n",
       "      <td>0.0</td>\n",
       "      <td>0</td>\n",
       "      <td>0</td>\n",
       "      <td>1</td>\n",
       "      <td>0</td>\n",
       "      <td>0</td>\n",
       "      <td>0</td>\n",
       "      <td>...</td>\n",
       "      <td>0</td>\n",
       "      <td>0</td>\n",
       "      <td>0</td>\n",
       "      <td>0</td>\n",
       "      <td>0</td>\n",
       "      <td>0</td>\n",
       "      <td>1</td>\n",
       "      <td>0</td>\n",
       "      <td>90046.0</td>\n",
       "      <td>1</td>\n",
       "    </tr>\n",
       "    <tr>\n",
       "      <th>1</th>\n",
       "      <td>&lt;=50K</td>\n",
       "      <td>23</td>\n",
       "      <td>594.0</td>\n",
       "      <td>0.0</td>\n",
       "      <td>0</td>\n",
       "      <td>0</td>\n",
       "      <td>0</td>\n",
       "      <td>0</td>\n",
       "      <td>0</td>\n",
       "      <td>0</td>\n",
       "      <td>...</td>\n",
       "      <td>0</td>\n",
       "      <td>1</td>\n",
       "      <td>0</td>\n",
       "      <td>0</td>\n",
       "      <td>0</td>\n",
       "      <td>0</td>\n",
       "      <td>0</td>\n",
       "      <td>0</td>\n",
       "      <td>250165.0</td>\n",
       "      <td>1</td>\n",
       "    </tr>\n",
       "    <tr>\n",
       "      <th>2</th>\n",
       "      <td>&lt;=50K</td>\n",
       "      <td>19</td>\n",
       "      <td>0.0</td>\n",
       "      <td>0.0</td>\n",
       "      <td>0</td>\n",
       "      <td>0</td>\n",
       "      <td>0</td>\n",
       "      <td>0</td>\n",
       "      <td>0</td>\n",
       "      <td>0</td>\n",
       "      <td>...</td>\n",
       "      <td>0</td>\n",
       "      <td>0</td>\n",
       "      <td>0</td>\n",
       "      <td>1</td>\n",
       "      <td>0</td>\n",
       "      <td>0</td>\n",
       "      <td>0</td>\n",
       "      <td>0</td>\n",
       "      <td>305834.0</td>\n",
       "      <td>1</td>\n",
       "    </tr>\n",
       "    <tr>\n",
       "      <th>3</th>\n",
       "      <td>&lt;=50K</td>\n",
       "      <td>50</td>\n",
       "      <td>0.0</td>\n",
       "      <td>0.0</td>\n",
       "      <td>0</td>\n",
       "      <td>0</td>\n",
       "      <td>0</td>\n",
       "      <td>0</td>\n",
       "      <td>0</td>\n",
       "      <td>0</td>\n",
       "      <td>...</td>\n",
       "      <td>0</td>\n",
       "      <td>0</td>\n",
       "      <td>0</td>\n",
       "      <td>1</td>\n",
       "      <td>0</td>\n",
       "      <td>0</td>\n",
       "      <td>0</td>\n",
       "      <td>0</td>\n",
       "      <td>143804.0</td>\n",
       "      <td>1</td>\n",
       "    </tr>\n",
       "    <tr>\n",
       "      <th>4</th>\n",
       "      <td>&lt;=50K</td>\n",
       "      <td>30</td>\n",
       "      <td>0.0</td>\n",
       "      <td>0.0</td>\n",
       "      <td>0</td>\n",
       "      <td>0</td>\n",
       "      <td>0</td>\n",
       "      <td>0</td>\n",
       "      <td>0</td>\n",
       "      <td>0</td>\n",
       "      <td>...</td>\n",
       "      <td>0</td>\n",
       "      <td>1</td>\n",
       "      <td>0</td>\n",
       "      <td>0</td>\n",
       "      <td>0</td>\n",
       "      <td>0</td>\n",
       "      <td>0</td>\n",
       "      <td>0</td>\n",
       "      <td>321024.0</td>\n",
       "      <td>1</td>\n",
       "    </tr>\n",
       "  </tbody>\n",
       "</table>\n",
       "<p>5 rows × 110 columns</p>\n",
       "</div>"
      ],
      "text/plain": [
       "  Above/Below 50K Age  Capital Gain  Capital Loss  Country_ ?  \\\n",
       "0           <=50K  24           0.0           0.0           0   \n",
       "1           <=50K  23         594.0           0.0           0   \n",
       "2           <=50K  19           0.0           0.0           0   \n",
       "3           <=50K  50           0.0           0.0           0   \n",
       "4           <=50K  30           0.0           0.0           0   \n",
       "\n",
       "   Country_ Cambodia  Country_ Canada  Country_ China  Country_ Columbia  \\\n",
       "0                  0                1               0                  0   \n",
       "1                  0                0               0                  0   \n",
       "2                  0                0               0                  0   \n",
       "3                  0                0               0                  0   \n",
       "4                  0                0               0                  0   \n",
       "\n",
       "   Country_ Cuba  ...    Workclass_ Federal-gov  Workclass_ Local-gov  \\\n",
       "0              0  ...                         0                     0   \n",
       "1              0  ...                         0                     1   \n",
       "2              0  ...                         0                     0   \n",
       "3              0  ...                         0                     0   \n",
       "4              0  ...                         0                     1   \n",
       "\n",
       "   Workclass_ Never-worked  Workclass_ Private  Workclass_ Self-emp-inc  \\\n",
       "0                        0                   0                        0   \n",
       "1                        0                   0                        0   \n",
       "2                        0                   1                        0   \n",
       "3                        0                   1                        0   \n",
       "4                        0                   0                        0   \n",
       "\n",
       "   Workclass_ Self-emp-not-inc  Workclass_ State-gov  Workclass_ Without-pay  \\\n",
       "0                            0                     1                       0   \n",
       "1                            0                     0                       0   \n",
       "2                            0                     0                       0   \n",
       "3                            0                     0                       0   \n",
       "4                            0                     0                       0   \n",
       "\n",
       "     fnlgwt  label  \n",
       "0   90046.0      1  \n",
       "1  250165.0      1  \n",
       "2  305834.0      1  \n",
       "3  143804.0      1  \n",
       "4  321024.0      1  \n",
       "\n",
       "[5 rows x 110 columns]"
      ]
     },
     "execution_count": 5,
     "metadata": {},
     "output_type": "execute_result"
    }
   ],
   "source": [
    "columns = ['Age','Workclass','fnlgwt','Education','Education Num','Marital Status',\n",
    "           'Occupation','Relationship','Race','Sex','Capital Gain','Capital Loss',\n",
    "           'Hours/Week','Country','Above/Below 50K']\n",
    "\n",
    "train = pd.read_csv(os.path.join(path, 'data/census_income/adult.data'), names=columns)\n",
    "test = pd.read_csv(os.path.join(path, 'data/census_income/adult.test'), names=columns)\n",
    "test = test.iloc[1:]\n",
    "\n",
    "df = pd.concat([train, test]).copy(deep=True)\n",
    "\n",
    "del train, test\n",
    "\n",
    "df.replace(' >50K.', ' >50K', inplace=True)\n",
    "df.replace(' <=50K.', ' <=50K', inplace=True)\n",
    "\n",
    "df.dropna(inplace=True)\n",
    "df.reset_index(inplace=True, drop=True)\n",
    "\n",
    "ctg = ['Workclass', 'Sex', 'Education', 'Marital Status', \n",
    "       'Occupation', 'Relationship', 'Race', 'Country']\n",
    "for c in ctg:\n",
    "    df = pd.concat([df, pd.get_dummies(df[c], \n",
    "                                       prefix=c,\n",
    "                                       dummy_na=False)], axis=1).drop([c],axis=1)\n",
    "\n",
    "'''Rep: <=50K    37155 ;; >50K     11687'''\n",
    "\n",
    "df_high = df[df['Above/Below 50K'] == \" >50K\"].copy(deep=True)\n",
    "df_low = df[df['Above/Below 50K'] == \" <=50K\"].copy(deep=True)\n",
    "\n",
    "df_low = df_low.reindex(np.random.permutation(df_low.index))\n",
    "df_high = df_high.reindex(np.random.permutation(df_high.index))\n",
    "\n",
    "rep = pd.concat([df_low.head(5000).copy(deep=True),\n",
    "                 df_high.head(5000).copy(deep=True)], sort=True)\n",
    "\n",
    "nonrep = pd.concat([df_low.tail(5000).copy(deep=True),\n",
    "                    df_high.tail(5000).copy(deep=True)], sort=True)\n",
    "\n",
    "print('Rep: \\n', rep['Above/Below 50K'].value_counts(), '\\n')\n",
    "print('Nonrep: \\n', nonrep['Above/Below 50K'].value_counts())\n",
    "\n",
    "nonrep['label'] = 1\n",
    "rep['label'] = 0\n",
    "\n",
    "del df, df_low, df_high\n",
    "\n",
    "us = pd.concat([nonrep, rep], sort=True)\n",
    "\n",
    "us_columns = list(us.columns)\n",
    "meta = ['label', 'Above/Below 50K', 'index', 'bootstrap']\n",
    "for m in meta:\n",
    "    if m in us_columns:\n",
    "        us_columns.remove(m)\n",
    "\n",
    "us.reset_index(drop=True, inplace=True)\n",
    "us.head()"
   ]
  },
  {
   "cell_type": "code",
   "execution_count": 6,
   "metadata": {
    "scrolled": true
   },
   "outputs": [
    {
     "data": {
      "text/html": [
       "<div>\n",
       "<style scoped>\n",
       "    .dataframe tbody tr th:only-of-type {\n",
       "        vertical-align: middle;\n",
       "    }\n",
       "\n",
       "    .dataframe tbody tr th {\n",
       "        vertical-align: top;\n",
       "    }\n",
       "\n",
       "    .dataframe thead th {\n",
       "        text-align: right;\n",
       "    }\n",
       "</style>\n",
       "<table border=\"1\" class=\"dataframe\">\n",
       "  <thead>\n",
       "    <tr style=\"text-align: right;\">\n",
       "      <th></th>\n",
       "      <th>Alter</th>\n",
       "      <th>BRS1</th>\n",
       "      <th>BRS2</th>\n",
       "      <th>BRS3</th>\n",
       "      <th>BRS4</th>\n",
       "      <th>BRS5</th>\n",
       "      <th>BRS6</th>\n",
       "      <th>Berufsgruppe</th>\n",
       "      <th>Erwerbstätigkeit</th>\n",
       "      <th>Geschlecht</th>\n",
       "      <th>IE_ext1</th>\n",
       "      <th>IE_ext2</th>\n",
       "      <th>IE_int1</th>\n",
       "      <th>IE_int2</th>\n",
       "      <th>Id</th>\n",
       "      <th>Optimismus</th>\n",
       "      <th>Pessimismus</th>\n",
       "      <th>Schulabschluss</th>\n",
       "      <th>label</th>\n",
       "      <th>woechentlicheArbeitszeit</th>\n",
       "    </tr>\n",
       "  </thead>\n",
       "  <tbody>\n",
       "    <tr>\n",
       "      <th>0</th>\n",
       "      <td>48.0</td>\n",
       "      <td>3.0</td>\n",
       "      <td>2.0</td>\n",
       "      <td>3.0</td>\n",
       "      <td>3.0</td>\n",
       "      <td>3.0</td>\n",
       "      <td>4.0</td>\n",
       "      <td>4.0</td>\n",
       "      <td>1.0</td>\n",
       "      <td>1.0</td>\n",
       "      <td>4.0</td>\n",
       "      <td>4.0</td>\n",
       "      <td>3.0</td>\n",
       "      <td>3.0</td>\n",
       "      <td>GBS+00027</td>\n",
       "      <td>3.0</td>\n",
       "      <td>4.0</td>\n",
       "      <td>3.0</td>\n",
       "      <td>1</td>\n",
       "      <td>4.0</td>\n",
       "    </tr>\n",
       "    <tr>\n",
       "      <th>1</th>\n",
       "      <td>68.0</td>\n",
       "      <td>5.0</td>\n",
       "      <td>1.0</td>\n",
       "      <td>5.0</td>\n",
       "      <td>1.0</td>\n",
       "      <td>5.0</td>\n",
       "      <td>1.0</td>\n",
       "      <td>8.0</td>\n",
       "      <td>1.0</td>\n",
       "      <td>2.0</td>\n",
       "      <td>2.0</td>\n",
       "      <td>1.0</td>\n",
       "      <td>5.0</td>\n",
       "      <td>5.0</td>\n",
       "      <td>GBS+00032</td>\n",
       "      <td>7.0</td>\n",
       "      <td>1.0</td>\n",
       "      <td>5.0</td>\n",
       "      <td>1</td>\n",
       "      <td>1.0</td>\n",
       "    </tr>\n",
       "    <tr>\n",
       "      <th>2</th>\n",
       "      <td>56.0</td>\n",
       "      <td>4.0</td>\n",
       "      <td>4.0</td>\n",
       "      <td>2.0</td>\n",
       "      <td>4.0</td>\n",
       "      <td>2.0</td>\n",
       "      <td>4.0</td>\n",
       "      <td>4.0</td>\n",
       "      <td>1.0</td>\n",
       "      <td>2.0</td>\n",
       "      <td>3.0</td>\n",
       "      <td>3.0</td>\n",
       "      <td>3.0</td>\n",
       "      <td>3.0</td>\n",
       "      <td>GBS+00071</td>\n",
       "      <td>4.0</td>\n",
       "      <td>4.0</td>\n",
       "      <td>3.0</td>\n",
       "      <td>1</td>\n",
       "      <td>3.0</td>\n",
       "    </tr>\n",
       "    <tr>\n",
       "      <th>3</th>\n",
       "      <td>55.0</td>\n",
       "      <td>4.0</td>\n",
       "      <td>2.0</td>\n",
       "      <td>4.0</td>\n",
       "      <td>3.0</td>\n",
       "      <td>4.0</td>\n",
       "      <td>2.0</td>\n",
       "      <td>3.0</td>\n",
       "      <td>1.0</td>\n",
       "      <td>2.0</td>\n",
       "      <td>2.0</td>\n",
       "      <td>2.0</td>\n",
       "      <td>4.0</td>\n",
       "      <td>4.0</td>\n",
       "      <td>GBS+00084</td>\n",
       "      <td>5.0</td>\n",
       "      <td>2.0</td>\n",
       "      <td>4.0</td>\n",
       "      <td>1</td>\n",
       "      <td>3.0</td>\n",
       "    </tr>\n",
       "    <tr>\n",
       "      <th>4</th>\n",
       "      <td>60.0</td>\n",
       "      <td>5.0</td>\n",
       "      <td>2.0</td>\n",
       "      <td>5.0</td>\n",
       "      <td>2.0</td>\n",
       "      <td>5.0</td>\n",
       "      <td>2.0</td>\n",
       "      <td>3.0</td>\n",
       "      <td>1.0</td>\n",
       "      <td>2.0</td>\n",
       "      <td>2.0</td>\n",
       "      <td>2.0</td>\n",
       "      <td>4.0</td>\n",
       "      <td>4.0</td>\n",
       "      <td>GBS+00092</td>\n",
       "      <td>6.0</td>\n",
       "      <td>2.0</td>\n",
       "      <td>5.0</td>\n",
       "      <td>1</td>\n",
       "      <td>5.0</td>\n",
       "    </tr>\n",
       "  </tbody>\n",
       "</table>\n",
       "</div>"
      ],
      "text/plain": [
       "   Alter  BRS1  BRS2  BRS3  BRS4  BRS5  BRS6  Berufsgruppe  Erwerbstätigkeit  \\\n",
       "0   48.0   3.0   2.0   3.0   3.0   3.0   4.0           4.0               1.0   \n",
       "1   68.0   5.0   1.0   5.0   1.0   5.0   1.0           8.0               1.0   \n",
       "2   56.0   4.0   4.0   2.0   4.0   2.0   4.0           4.0               1.0   \n",
       "3   55.0   4.0   2.0   4.0   3.0   4.0   2.0           3.0               1.0   \n",
       "4   60.0   5.0   2.0   5.0   2.0   5.0   2.0           3.0               1.0   \n",
       "\n",
       "   Geschlecht  IE_ext1  IE_ext2  IE_int1  IE_int2         Id  Optimismus  \\\n",
       "0         1.0      4.0      4.0      3.0      3.0  GBS+00027         3.0   \n",
       "1         2.0      2.0      1.0      5.0      5.0  GBS+00032         7.0   \n",
       "2         2.0      3.0      3.0      3.0      3.0  GBS+00071         4.0   \n",
       "3         2.0      2.0      2.0      4.0      4.0  GBS+00084         5.0   \n",
       "4         2.0      2.0      2.0      4.0      4.0  GBS+00092         6.0   \n",
       "\n",
       "   Pessimismus  Schulabschluss  label  woechentlicheArbeitszeit  \n",
       "0          4.0             3.0      1                       4.0  \n",
       "1          1.0             5.0      1                       1.0  \n",
       "2          4.0             3.0      1                       3.0  \n",
       "3          2.0             4.0      1                       3.0  \n",
       "4          2.0             5.0      1                       5.0  "
      ]
     },
     "execution_count": 6,
     "metadata": {},
     "output_type": "execute_result"
    }
   ],
   "source": [
    "allensbach = pd.read_csv(os.path.join(path, 'data/allensbach_mrs.csv'))\n",
    "\n",
    "allensbach.drop(['Unnamed: 0'], axis=1, inplace=True)\n",
    "\n",
    "allensbach_columns = ['BRS1', 'BRS2', 'BRS3', 'BRS4', 'BRS5', 'BRS6', \n",
    "                      'Berufsgruppe', 'Erwerbstätigkeit', 'Geschlecht',\n",
    "                      'Optimismus', 'Pessimismus', 'Schulabschluss', 'woechentlicheArbeitszeit']\n",
    "allensbach.head()"
   ]
  },
  {
   "cell_type": "code",
   "execution_count": 7,
   "metadata": {},
   "outputs": [
    {
     "name": "stderr",
     "output_type": "stream",
     "text": [
      "c:\\users\\laksa\\appdata\\local\\programs\\python\\python36-32\\lib\\site-packages\\ipykernel_launcher.py:24: DataConversionWarning: Data with input dtype int64, float64 were all converted to float64 by StandardScaler.\n",
      "c:\\users\\laksa\\appdata\\local\\programs\\python\\python36-32\\lib\\site-packages\\ipykernel_launcher.py:25: DataConversionWarning: Data with input dtype int64, float64 were all converted to float64 by StandardScaler.\n"
     ]
    },
    {
     "data": {
      "text/plain": [
       "\"\\nDesinteresse Politiker\\n'Wach', 'Zurueckhaltend', 'Zufriedenheit Wahlergebnis',\\n'leicht Vertrauen', 'Faulheit', 'Entspannt',\\n'wenig kuenstlerisches Interesse', 'Gesellig',\\n'Andere kritisieren',\\n'Schlechter Schlaf', 'Leben genießen',\\n'Zu Nichts aufraffen', 'Alles anstrengend', '\\n'Gruendlich', 'Nervoes', 'Phantasievoll', 'Optimismus Zukunft\\n\""
      ]
     },
     "execution_count": 7,
     "metadata": {},
     "output_type": "execute_result"
    }
   ],
   "source": [
    "gesis = pd.read_csv(os.path.join(path, 'data/gesis_processed.csv'), engine='python')\n",
    "gbs = pd.read_csv(os.path.join(path, 'data/gbs_processed.csv'), engine='python')\n",
    "\n",
    "gesis = gesis[gesis.Wahlteilnahme != 0.5] #drop gesis where wahlteilnahme unknown\n",
    "\n",
    "absicht = {3:0.5, 2:0, 1:0}\n",
    "gbs = gbs.replace({'Wahlabsicht': absicht})\n",
    "absicht2 = {5:1, 4:1}\n",
    "gbs = gbs.replace({'Wahlabsicht': absicht2})\n",
    "\n",
    "gesis['label'] = 0\n",
    "gbs['label'] = 1\n",
    "\n",
    "cols = ['Geschlecht', 'Geburtsjahr', 'Nationalitaet', 'Geburtsland', 'Nettoeinkommen Selbst',\n",
    "        'Nettoeinkommen Haushalt', 'Personen im Haushalt', 'Berufsgruppe',\n",
    "       'Resilienz', 'Wahlteilnahme', 'Wahlabsicht', 'Hoechster Bildungsabschluss',\n",
    "       'Familienstand', 'Erwerbstaetigkeit'] \n",
    "        \n",
    "de = 'Aktiv', 'Schlechter Schlaf', 'Leben genießen', 'Alles anstrengend', 'Berufliche Ausbildung'\n",
    "\n",
    "scaler = StandardScaler()\n",
    "scaler.fit(pd.concat([gesis, gbs], sort = False)[cols].values)\n",
    "# is it reasonable to fit scaler on rep and nonrep data?\n",
    "gesis[cols] = scaler.transform(gesis[cols]) \n",
    "gbs[cols] = scaler.transform(gbs[cols]) \n",
    "\n",
    "'''\n",
    "Desinteresse Politiker\n",
    "'Wach', 'Zurueckhaltend', 'Zufriedenheit Wahlergebnis',\n",
    "'leicht Vertrauen', 'Faulheit', 'Entspannt',\n",
    "'wenig kuenstlerisches Interesse', 'Gesellig',\n",
    "'Andere kritisieren',\n",
    "'Schlechter Schlaf', 'Leben genießen',\n",
    "'Zu Nichts aufraffen', 'Alles anstrengend', '\n",
    "'Gruendlich', 'Nervoes', 'Phantasievoll', 'Optimismus Zukunft\n",
    "'''"
   ]
  },
  {
   "cell_type": "code",
   "execution_count": 8,
   "metadata": {
    "scrolled": true
   },
   "outputs": [
    {
     "name": "stdout",
     "output_type": "stream",
     "text": [
      "579, 560, "
     ]
    },
    {
     "data": {
      "image/png": "[encoded data removed]",
      "text/plain": [
       "<Figure size 432x288 with 1 Axes>"
      ]
     },
     "metadata": {
      "needs_background": "light"
     },
     "output_type": "display_data"
    },
    {
     "name": "stdout",
     "output_type": "stream",
     "text": [
      "546, 530, "
     ]
    },
    {
     "data": {
      "image/png": "[encoded data removed]",
      "text/plain": [
       "<Figure size 432x288 with 1 Axes>"
      ]
     },
     "metadata": {
      "needs_background": "light"
     },
     "output_type": "display_data"
    },
    {
     "name": "stdout",
     "output_type": "stream",
     "text": [
      "513, 498, 483, 472, 459, 441, 426, "
     ]
    },
    {
     "data": {
      "image/png": "[encoded data removed]",
      "text/plain": [
       "<Figure size 432x288 with 1 Axes>"
      ]
     },
     "metadata": {
      "needs_background": "light"
     },
     "output_type": "display_data"
    },
    {
     "name": "stdout",
     "output_type": "stream",
     "text": [
      "406, 389, 373, 363, 350, 336, 322, 308, 291, 278, 270, 257, "
     ]
    },
    {
     "data": {
      "image/png": "[encoded data removed]",
      "text/plain": [
       "<Figure size 432x288 with 1 Axes>"
      ]
     },
     "metadata": {
      "needs_background": "light"
     },
     "output_type": "display_data"
    },
    {
     "name": "stdout",
     "output_type": "stream",
     "text": [
      "245, "
     ]
    },
    {
     "data": {
      "image/png": "[encoded data removed]",
      "text/plain": [
       "<Figure size 432x288 with 1 Axes>"
      ]
     },
     "metadata": {
      "needs_background": "light"
     },
     "output_type": "display_data"
    },
    {
     "name": "stdout",
     "output_type": "stream",
     "text": [
      "233, 218, "
     ]
    },
    {
     "data": {
      "image/png": "[encoded data removed]",
      "text/plain": [
       "<Figure size 432x288 with 1 Axes>"
      ]
     },
     "metadata": {
      "needs_background": "light"
     },
     "output_type": "display_data"
    },
    {
     "name": "stdout",
     "output_type": "stream",
     "text": [
      "210, "
     ]
    },
    {
     "data": {
      "image/png": "[encoded data removed]",
      "text/plain": [
       "<Figure size 432x288 with 1 Axes>"
      ]
     },
     "metadata": {
      "needs_background": "light"
     },
     "output_type": "display_data"
    },
    {
     "name": "stdout",
     "output_type": "stream",
     "text": [
      "195, 188, 176, 163, 146, 131, 120, "
     ]
    },
    {
     "data": {
      "image/png": "[encoded data removed]",
      "text/plain": [
       "<Figure size 432x288 with 1 Axes>"
      ]
     },
     "metadata": {
      "needs_background": "light"
     },
     "output_type": "display_data"
    },
    {
     "name": "stdout",
     "output_type": "stream",
     "text": [
      "109, "
     ]
    }
   ],
   "source": [
    "auc = []\n",
    "\n",
    "C = [0.01, 0.05, 0.1, 0.5, 1, 10]\n",
    "for T in [0.15]:\n",
    "    val, nonrep = MRS(nonrep=gbs, rep=gesis, columns=cols,\n",
    "                      temperature=T, ensemble_size=10, n_drop=20, limit=100, C=C, k=1)\n",
    "    auc.append(val)"
   ]
  },
  {
   "cell_type": "code",
   "execution_count": 67,
   "metadata": {},
   "outputs": [
    {
     "data": {
      "image/png": "[encoded data removed]",
      "text/plain": [
       "<Figure size 432x288 with 1 Axes>"
      ]
     },
     "metadata": {
      "needs_background": "light"
     },
     "output_type": "display_data"
    }
   ],
   "source": [
    "for i in range(6):\n",
    "    #plt.figure(figsize=(12,10), dpi=80)\n",
    "    plt.plot([a[0] for a in auc[i]], [a[1] for a in auc[i]], label='GBS')\n",
    "    plt.xlabel(\"removed instances\")\n",
    "    \n",
    "\n",
    "plt.plot([a[0] for a in auc[i]], len(auc[i])*[0.5], linestyle='--', label='random')\n",
    "plt.grid()\n",
    "plt.legend(loc='lower left')\n",
    "plt.title('Multiple Runs: GBS vs GESIS')\n",
    "plt.savefig('GBS-GESIS___.png')\n",
    "plt.show()"
   ]
  },
  {
   "cell_type": "code",
   "execution_count": 76,
   "metadata": {},
   "outputs": [
    {
     "name": "stdout",
     "output_type": "stream",
     "text": [
      "504, 502, 497, 489, 484, 475, 467, 461, 455, 446, 442, 434, 425, 416, 408, 402, 395, 389, 383, 378, 375, 370, 363, 356, 349, 343, 334, 326, 321, 313, 309, 303, 297, 289, 282, 274, 270, 266, 259, 254, 247, 240, 234, 225, 217, 208, 201, 193, 186, 181, 175, 167, 162, 156, 148, 143, 135, 129, 122, 115, 106, 101, 92, 87, 80, 75, 71, 67, 60, 55, 47, 42, 37, 32, 27, 22, 20, 504, 494, 485, 480, 471, 462, 453, 445, 437, 430, 420, 410, 405, 395, 390, 382, 374, 364, 355, 347, 338, 331, 322, 313, 306, 298, 288, 279, 271, 262, 256, 247, 240, 231, 223, 214, 206, 196, 187, 177, 169, 164, 157, 151, 143, 135, 127, 118, 110, 102, 94, 87, 78, 69, 62, 53, 45, 37, 32, 25, 19, 504, 495, 485, 477, 467, 458, 448, 441, 431, 421, 412, 402, 394, 385, 377, 369, 360, 351, 341, 333, 324, 316, 308, 300, 290, 284, 274, 264, 254, 244, 236, 227, 219, 209, 200, 193, 183, 176, 166, 157, 147, 138, 129, 121, 114, 105, 98, 91, 82, 75, 66, 59, 51, 42, 34, 31, 25, 19, "
     ]
    }
   ],
   "source": [
    "allens = allensbach[allensbach.label==0]\n",
    "gbs_a = allensbach[allensbach.label==1]\n",
    "\n",
    "auc_2 = []\n",
    "\n",
    "C = [0.001, 0.002, 0.005, 0.008, 0.01, 0.015, 0.02, 0.05, 0.1, 0.2, 0.5, 0.7]\n",
    "for T in [0.1, 0.15, 0.2]:\n",
    "    auc_2.append(MRS(nonrep=gbs_a, rep=allens, columns=allensbach_columns,\n",
    "                     temperature=T, ensemble_size=10, n_drop=10, limit=15, C=C, k=1))"
   ]
  },
  {
   "cell_type": "code",
   "execution_count": 77,
   "metadata": {},
   "outputs": [
    {
     "data": {
      "image/png": "[encoded data removed]",
      "text/plain": [
       "<Figure size 432x288 with 1 Axes>"
      ]
     },
     "metadata": {
      "needs_background": "light"
     },
     "output_type": "display_data"
    }
   ],
   "source": [
    "for i in range(3):\n",
    "    #plt.figure(figsize=(12,10), dpi=80)\n",
    "    plt.plot([a[0] for a in auc_2[i]], [a[1] for a in auc_2[i]], label='GBS')\n",
    "    plt.xlabel(\"removed instances\")\n",
    "    \n",
    "plt.plot([a[0] for a in auc_2[i]], len(auc_2[i])*[0.5], linestyle='--', label='random')\n",
    "plt.grid()\n",
    "plt.legend(loc='lower left')\n",
    "plt.title('Multiple Runs: GBS vs Allensbach')\n",
    "plt.savefig('GBS-Allensbach___.png')\n",
    "plt.show()"
   ]
  },
  {
   "cell_type": "markdown",
   "metadata": {},
   "source": [
    "## Predicting Political Participation"
   ]
  },
  {
   "cell_type": "markdown",
   "metadata": {},
   "source": [
    "### GBS (Original)"
   ]
  },
  {
   "cell_type": "code",
   "execution_count": 15,
   "metadata": {},
   "outputs": [],
   "source": [
    "gbs_ori = gbs.copy(deep=True)\n",
    "\n",
    "gbs_ori.drop('Wahlabsicht', axis=1, inplace=True)\n",
    "cols.remove('Wahlabsicht')"
   ]
  },
  {
   "cell_type": "code",
   "execution_count": 18,
   "metadata": {},
   "outputs": [
    {
     "name": "stdout",
     "output_type": "stream",
     "text": [
      "True     550\n",
      "False     29\n",
      "Name: Class, dtype: int64\n",
      "{'C': 0.005}\n",
      "0.990 (+/-0.019) for {'C': 0.001}\n",
      "0.995 (+/-0.013) for {'C': 0.002}\n",
      "1.000 (+/-0.000) for {'C': 0.005}\n",
      "1.000 (+/-0.000) for {'C': 0.01}\n",
      "1.000 (+/-0.000) for {'C': 0.05}\n",
      "1.000 (+/-0.000) for {'C': 0.1}\n",
      "1.000 (+/-0.000) for {'C': 0.2}\n",
      "1.000 (+/-0.000) for {'C': 0.5}\n",
      "1.000 (+/-0.000) for {'C': 1}\n",
      "1.000 (+/-0.000) for {'C': 2}\n",
      "1.000 (+/-0.000) for {'C': 5}\n",
      "1.000 (+/-0.000) for {'C': 10}\n",
      "1.000 (+/-0.000) for {'C': 25}\n",
      "1.000 (+/-0.000) for {'C': 50}\n",
      "1.000 (+/-0.000) for {'C': 75}\n",
      "1.000 (+/-0.000) for {'C': 100}\n",
      "1.000 (+/-0.000) for {'C': 150}\n",
      "1.000 (+/-0.000) for {'C': 200}\n",
      "1.000 (+/-0.000) for {'C': 500}\n",
      "1.000 (+/-0.000) for {'C': 1000}\n"
     ]
    }
   ],
   "source": [
    "gbs_ori['Class'] = [False if i < 0 else True for i in gbs_ori[\"Wahlteilnahme\"]]\n",
    "\n",
    "print(gbs_ori['Class'].value_counts())\n",
    "\n",
    "X_train, X_test, y_train, y_test = train_test_split(gbs_ori[cols], gbs_ori.Class, test_size=0.33, \n",
    "                                                    random_state=42)\n",
    "\n",
    "\n",
    "tuned_parameters = [{'C': [0.001, 0.002, 0.005, 0.01, 0.05,\n",
    "                     0.1, 0.2, 0.5, 1, 2 , 5, 10, 25, 50, \n",
    "                     75, 100, 150, 200, 500, 1000]}]\n",
    "\n",
    "clf = GridSearchCV(LinearSVC(C=1, max_iter=1_000_000), tuned_parameters, cv=5)\n",
    "clf.fit(X_train, y_train)\n",
    "\n",
    "print(clf.best_params_)\n",
    "means = clf.cv_results_['mean_test_score']\n",
    "stds = clf.cv_results_['std_test_score']\n",
    "for mean, std, params in zip(means, stds, clf.cv_results_['params']):\n",
    "    print(\"%0.3f (+/-%0.03f) for %r\"\n",
    "          % (mean, std * 2, params))"
   ]
  },
  {
   "cell_type": "code",
   "execution_count": 24,
   "metadata": {},
   "outputs": [
    {
     "data": {
      "text/plain": [
       "1.0"
      ]
     },
     "execution_count": 24,
     "metadata": {},
     "output_type": "execute_result"
    }
   ],
   "source": [
    "clf = LinearSVC(C=0.5, random_state=0, tol=1e-5, max_iter=1_000_000)\n",
    "clf.fit(X_train[cols], y_train)\n",
    "\n",
    "preds = clf.predict(X_test)\n",
    "\n",
    "accuracy_score(y_test, preds)\n",
    "\n",
    "#metrics compare preds and y_test.\n",
    "\n",
    "#del X_train, y_train, X_test,  y_test"
   ]
  },
  {
   "cell_type": "markdown",
   "metadata": {},
   "source": [
    "### GBS (MRS-Sampled)"
   ]
  },
  {
   "cell_type": "code",
   "execution_count": 11,
   "metadata": {},
   "outputs": [
    {
     "name": "stdout",
     "output_type": "stream",
     "text": [
      " 0.348124    90\n",
      "-2.872538    10\n",
      "Name: Wahlteilnahme, dtype: int64\n"
     ]
    }
   ],
   "source": [
    "gbs_mrs = nonrep.copy(deep=True)\n",
    "\n",
    "print(gbs_mrs['Wahlteilnahme'].value_counts())"
   ]
  },
  {
   "cell_type": "code",
   "execution_count": 25,
   "metadata": {},
   "outputs": [
    {
     "name": "stdout",
     "output_type": "stream",
     "text": [
      "True     90\n",
      "False    10\n",
      "Name: Class, dtype: int64\n",
      "{'C': 0.005}\n",
      "0.970 (+/-0.070) for {'C': 0.001}\n",
      "0.985 (+/-0.058) for {'C': 0.002}\n",
      "1.000 (+/-0.000) for {'C': 0.005}\n",
      "1.000 (+/-0.000) for {'C': 0.01}\n",
      "1.000 (+/-0.000) for {'C': 0.05}\n",
      "1.000 (+/-0.000) for {'C': 0.1}\n",
      "1.000 (+/-0.000) for {'C': 0.2}\n",
      "1.000 (+/-0.000) for {'C': 0.5}\n",
      "1.000 (+/-0.000) for {'C': 1}\n",
      "1.000 (+/-0.000) for {'C': 2}\n",
      "1.000 (+/-0.000) for {'C': 5}\n",
      "1.000 (+/-0.000) for {'C': 10}\n",
      "1.000 (+/-0.000) for {'C': 25}\n",
      "1.000 (+/-0.000) for {'C': 50}\n",
      "1.000 (+/-0.000) for {'C': 75}\n",
      "1.000 (+/-0.000) for {'C': 100}\n",
      "1.000 (+/-0.000) for {'C': 150}\n",
      "1.000 (+/-0.000) for {'C': 200}\n",
      "1.000 (+/-0.000) for {'C': 500}\n",
      "1.000 (+/-0.000) for {'C': 1000}\n"
     ]
    },
    {
     "name": "stderr",
     "output_type": "stream",
     "text": [
      "c:\\users\\laksa\\appdata\\local\\programs\\python\\python36-32\\lib\\site-packages\\sklearn\\model_selection\\_search.py:841: DeprecationWarning: The default of the `iid` parameter will change from True to False in version 0.22 and will be removed in 0.24. This will change numeric results when test-set sizes are unequal.\n",
      "  DeprecationWarning)\n"
     ]
    }
   ],
   "source": [
    "gbs_mrs['Class'] = [False if i < 0 else True for i in gbs_mrs[\"Wahlteilnahme\"]]\n",
    "\n",
    "print(gbs_mrs['Class'].value_counts())\n",
    "\n",
    "X_train, X_test, y_train, y_test = train_test_split(gbs_mrs[cols], gbs_mrs.Class, test_size=0.33, \n",
    "                                                    random_state=42)\n",
    "\n",
    "\n",
    "tuned_parameters = [{'C': [0.001, 0.002, 0.005, 0.01, 0.05,\n",
    "                     0.1, 0.2, 0.5, 1, 2 , 5, 10, 25, 50, \n",
    "                     75, 100, 150, 200, 500, 1000]}]\n",
    "\n",
    "clf = GridSearchCV(LinearSVC(C=1, max_iter=1_000_000), tuned_parameters, cv=5)\n",
    "clf.fit(X_train, y_train)\n",
    "\n",
    "print(clf.best_params_)\n",
    "means = clf.cv_results_['mean_test_score']\n",
    "stds = clf.cv_results_['std_test_score']\n",
    "for mean, std, params in zip(means, stds, clf.cv_results_['params']):\n",
    "    print(\"%0.3f (+/-%0.03f) for %r\"\n",
    "          % (mean, std * 2, params))"
   ]
  },
  {
   "cell_type": "code",
   "execution_count": 26,
   "metadata": {},
   "outputs": [
    {
     "data": {
      "text/plain": [
       "1.0"
      ]
     },
     "execution_count": 26,
     "metadata": {},
     "output_type": "execute_result"
    }
   ],
   "source": [
    "clf = LinearSVC(C=0.5, random_state=0, tol=1e-5, max_iter=1_000_000)\n",
    "clf.fit(X_train[cols], y_train)\n",
    "\n",
    "preds = clf.predict(X_test)\n",
    "\n",
    "accuracy_score(y_test, preds)\n",
    "\n",
    "#metrics compare preds and y_test.\n",
    "\n",
    "#del X_train, y_train, X_test,  y_test"
   ]
  },
  {
   "cell_type": "code",
   "execution_count": null,
   "metadata": {},
   "outputs": [],
   "source": []
  }
 ],
 "metadata": {
  "kernelspec": {
   "display_name": "Python 3",
   "language": "python",
   "name": "python3"
  },
  "language_info": {
   "codemirror_mode": {
    "name": "ipython",
    "version": 3
   },
   "file_extension": ".py",
   "mimetype": "text/x-python",
   "name": "python",
   "nbconvert_exporter": "python",
   "pygments_lexer": "ipython3",
   "version": "3.6.5"
  }
 },
 "nbformat": 4,
 "nbformat_minor": 2
}

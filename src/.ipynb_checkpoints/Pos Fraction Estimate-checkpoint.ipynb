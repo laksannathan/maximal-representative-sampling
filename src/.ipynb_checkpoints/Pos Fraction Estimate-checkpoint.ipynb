{
 "cells": [
  {
   "cell_type": "markdown",
   "metadata": {},
   "source": [
    "### This notebook estimates the fraction of positives in GBS.\n",
    "This fraction can then be used as lower and upper bound to assessing binary classifiers in the absence of negative samples (see: *positive-unlabeled learning*).\n",
    "\n",
    "Currently used: One-Class SVMs with PCA (n=5) on Big Five.\n",
    "\n",
    "results show that **fraction > 0.7** with high confidence"
   ]
  },
  {
   "cell_type": "code",
   "execution_count": 78,
   "metadata": {},
   "outputs": [
    {
     "name": "stdout",
     "output_type": "stream",
     "text": [
      "explained variance ratio (5 components): [0.20685277 0.14679858 0.12221753 0.11419584 0.10359452]\n"
     ]
    },
    {
     "data": {
      "text/html": [
       "<div>\n",
       "<style scoped>\n",
       "    .dataframe tbody tr th:only-of-type {\n",
       "        vertical-align: middle;\n",
       "    }\n",
       "\n",
       "    .dataframe tbody tr th {\n",
       "        vertical-align: top;\n",
       "    }\n",
       "\n",
       "    .dataframe thead th {\n",
       "        text-align: right;\n",
       "    }\n",
       "</style>\n",
       "<table border=\"1\" class=\"dataframe\">\n",
       "  <thead>\n",
       "    <tr style=\"text-align: right;\">\n",
       "      <th></th>\n",
       "      <th>0</th>\n",
       "      <th>1</th>\n",
       "      <th>2</th>\n",
       "      <th>3</th>\n",
       "      <th>4</th>\n",
       "    </tr>\n",
       "  </thead>\n",
       "  <tbody>\n",
       "    <tr>\n",
       "      <th>0</th>\n",
       "      <td>-0.532302</td>\n",
       "      <td>-0.478296</td>\n",
       "      <td>0.424518</td>\n",
       "      <td>-0.024958</td>\n",
       "      <td>0.027920</td>\n",
       "    </tr>\n",
       "    <tr>\n",
       "      <th>1</th>\n",
       "      <td>-0.525936</td>\n",
       "      <td>-0.302242</td>\n",
       "      <td>-0.216194</td>\n",
       "      <td>-0.189263</td>\n",
       "      <td>-0.049161</td>\n",
       "    </tr>\n",
       "    <tr>\n",
       "      <th>2</th>\n",
       "      <td>0.497572</td>\n",
       "      <td>-0.003374</td>\n",
       "      <td>-0.159925</td>\n",
       "      <td>0.342149</td>\n",
       "      <td>0.156740</td>\n",
       "    </tr>\n",
       "    <tr>\n",
       "      <th>3</th>\n",
       "      <td>0.287903</td>\n",
       "      <td>0.278965</td>\n",
       "      <td>-0.360193</td>\n",
       "      <td>0.127750</td>\n",
       "      <td>0.166871</td>\n",
       "    </tr>\n",
       "    <tr>\n",
       "      <th>4</th>\n",
       "      <td>-0.593756</td>\n",
       "      <td>-0.079978</td>\n",
       "      <td>-0.128161</td>\n",
       "      <td>0.257923</td>\n",
       "      <td>0.373466</td>\n",
       "    </tr>\n",
       "  </tbody>\n",
       "</table>\n",
       "</div>"
      ],
      "text/plain": [
       "          0         1         2         3         4\n",
       "0 -0.532302 -0.478296  0.424518 -0.024958  0.027920\n",
       "1 -0.525936 -0.302242 -0.216194 -0.189263 -0.049161\n",
       "2  0.497572 -0.003374 -0.159925  0.342149  0.156740\n",
       "3  0.287903  0.278965 -0.360193  0.127750  0.166871\n",
       "4 -0.593756 -0.079978 -0.128161  0.257923  0.373466"
      ]
     },
     "execution_count": 78,
     "metadata": {},
     "output_type": "execute_result"
    }
   ],
   "source": [
    "import pandas as pd\n",
    "import numpy as np\n",
    "import matplotlib.pyplot as plt\n",
    "from sklearn import svm\n",
    "from sklearn.decomposition import PCA\n",
    "\n",
    "df = pd.concat([pd.read_csv('X_red.csv'),\n",
    "                pd.read_csv('y_red.csv')], axis=1, join='inner')\n",
    "\n",
    "df = df[['Zurueckhaltend','leicht Vertrauen','Faulheit','Entspannt','wenig kuenstlerisches Interesse','Gesellig',\n",
    "                    'Andere kritisieren','Gruendlich','Nervoes','Phantasievoll']].copy()\n",
    "\n",
    "pca = PCA(n_components=5)\n",
    "X_r = pd.DataFrame(pca.fit(df.tail(4888).copy()).transform(df))\n",
    "print('explained variance ratio (5 components): %s'\n",
    "      % str(pca.explained_variance_ratio_))\n",
    "\n",
    "GBS = X_r.head(578).copy()\n",
    "GESIS = X_r.tail(4888).copy()\n",
    "\n",
    "X_r.head(5)"
   ]
  },
  {
   "cell_type": "code",
   "execution_count": 336,
   "metadata": {
    "scrolled": true
   },
   "outputs": [
    {
     "data": {
      "text/html": [
       "<div>\n",
       "<style scoped>\n",
       "    .dataframe tbody tr th:only-of-type {\n",
       "        vertical-align: middle;\n",
       "    }\n",
       "\n",
       "    .dataframe tbody tr th {\n",
       "        vertical-align: top;\n",
       "    }\n",
       "\n",
       "    .dataframe thead th {\n",
       "        text-align: right;\n",
       "    }\n",
       "</style>\n",
       "<table border=\"1\" class=\"dataframe\">\n",
       "  <thead>\n",
       "    <tr style=\"text-align: right;\">\n",
       "      <th></th>\n",
       "      <th>0.101</th>\n",
       "      <th>0.010201000000000002</th>\n",
       "      <th>0.0010303010000000002</th>\n",
       "      <th>0.00010406040100000003</th>\n",
       "      <th>1.0510100501000003e-05</th>\n",
       "      <th>1.0615201506010003e-06</th>\n",
       "      <th>1.0721353521070105e-07</th>\n",
       "      <th>1.0828567056280806e-08</th>\n",
       "      <th>1.0936852726843616e-09</th>\n",
       "      <th>1.1046221254112052e-10</th>\n",
       "      <th>1.1156683466653173e-11</th>\n",
       "      <th>1.1268250301319706e-12</th>\n",
       "      <th>1.1380932804332903e-13</th>\n",
       "      <th>1.1494742132376234e-14</th>\n",
       "    </tr>\n",
       "  </thead>\n",
       "  <tbody>\n",
       "    <tr>\n",
       "      <th>0</th>\n",
       "      <td>422</td>\n",
       "      <td>375</td>\n",
       "      <td>380</td>\n",
       "      <td>435</td>\n",
       "      <td>522</td>\n",
       "      <td>177</td>\n",
       "      <td>23</td>\n",
       "      <td>21</td>\n",
       "      <td>221</td>\n",
       "      <td>230</td>\n",
       "      <td>23</td>\n",
       "      <td>26</td>\n",
       "      <td>236</td>\n",
       "      <td>14</td>\n",
       "    </tr>\n",
       "    <tr>\n",
       "      <th>1</th>\n",
       "      <td>146</td>\n",
       "      <td>361</td>\n",
       "      <td>249</td>\n",
       "      <td>354</td>\n",
       "      <td>509</td>\n",
       "      <td>161</td>\n",
       "      <td>19</td>\n",
       "      <td>61</td>\n",
       "      <td>210</td>\n",
       "      <td>0</td>\n",
       "      <td>4</td>\n",
       "      <td>6</td>\n",
       "      <td>243</td>\n",
       "      <td>0</td>\n",
       "    </tr>\n",
       "    <tr>\n",
       "      <th>2</th>\n",
       "      <td>245</td>\n",
       "      <td>479</td>\n",
       "      <td>428</td>\n",
       "      <td>100</td>\n",
       "      <td>233</td>\n",
       "      <td>239</td>\n",
       "      <td>117</td>\n",
       "      <td>258</td>\n",
       "      <td>0</td>\n",
       "      <td>20</td>\n",
       "      <td>0</td>\n",
       "      <td>78</td>\n",
       "      <td>3</td>\n",
       "      <td>0</td>\n",
       "    </tr>\n",
       "    <tr>\n",
       "      <th>3</th>\n",
       "      <td>504</td>\n",
       "      <td>399</td>\n",
       "      <td>382</td>\n",
       "      <td>185</td>\n",
       "      <td>413</td>\n",
       "      <td>185</td>\n",
       "      <td>2</td>\n",
       "      <td>0</td>\n",
       "      <td>8</td>\n",
       "      <td>3</td>\n",
       "      <td>33</td>\n",
       "      <td>223</td>\n",
       "      <td>14</td>\n",
       "      <td>2</td>\n",
       "    </tr>\n",
       "    <tr>\n",
       "      <th>4</th>\n",
       "      <td>434</td>\n",
       "      <td>359</td>\n",
       "      <td>352</td>\n",
       "      <td>383</td>\n",
       "      <td>499</td>\n",
       "      <td>203</td>\n",
       "      <td>38</td>\n",
       "      <td>0</td>\n",
       "      <td>3</td>\n",
       "      <td>3</td>\n",
       "      <td>53</td>\n",
       "      <td>61</td>\n",
       "      <td>215</td>\n",
       "      <td>8</td>\n",
       "    </tr>\n",
       "  </tbody>\n",
       "</table>\n",
       "</div>"
      ],
      "text/plain": [
       "   1.010000e-01  1.020100e-02  1.030301e-03  1.040604e-04  1.051010e-05  \\\n",
       "0           422           375           380           435           522   \n",
       "1           146           361           249           354           509   \n",
       "2           245           479           428           100           233   \n",
       "3           504           399           382           185           413   \n",
       "4           434           359           352           383           499   \n",
       "\n",
       "   1.061520e-06  1.072135e-07  1.082857e-08  1.093685e-09  1.104622e-10  \\\n",
       "0           177            23            21           221           230   \n",
       "1           161            19            61           210             0   \n",
       "2           239           117           258             0            20   \n",
       "3           185             2             0             8             3   \n",
       "4           203            38             0             3             3   \n",
       "\n",
       "   1.115668e-11  1.126825e-12  1.138093e-13  1.149474e-14  \n",
       "0            23            26           236            14  \n",
       "1             4             6           243             0  \n",
       "2             0            78             3             0  \n",
       "3            33           223            14             2  \n",
       "4            53            61           215             8  "
      ]
     },
     "execution_count": 336,
     "metadata": {},
     "output_type": "execute_result"
    }
   ],
   "source": [
    "def count_1(ones):\n",
    "    return sum([1 for i in ones if i==1])\n",
    "\n",
    "gesis_frame = pd.DataFrame()\n",
    "gbs_frame = pd.DataFrame()\n",
    "\n",
    "ran = [0.101**x for x in range(1,15)]\n",
    "\n",
    "for i in ran:\n",
    "    plot_gesis = []\n",
    "    plot_gbs = []\n",
    "    for j in range(10):\n",
    "        \n",
    "        #Repeated Hold-Out Validation\n",
    "        tmp = GESIS.reindex(np.random.permutation(GESIS.index))\n",
    "        GESIS_train = tmp.head(4310).copy()\n",
    "        GESIS_test = tmp.tail(578).copy()\n",
    "        del tmp\n",
    "\n",
    "        clf = svm.OneClassSVM(kernel='linear', nu=i, shrinking=True)\n",
    "        clf.fit(GESIS_train)\n",
    "\n",
    "        pGESIS = clf.predict(GESIS_test)\n",
    "        pGBS = clf.predict(GBS)\n",
    "        \n",
    "        plot_gesis.append(count_1(pGESIS))\n",
    "        plot_gbs.append(count_1(pGBS))\n",
    "    \n",
    "    gesis_frame[i] = plot_gesis\n",
    "    gbs_frame[i] = plot_gbs \n",
    "    \n",
    "gesis_frame.head(5)"
   ]
  },
  {
   "cell_type": "code",
   "execution_count": 339,
   "metadata": {},
   "outputs": [
    {
     "data": {
      "image/png": "[encoded data removed]",
      "text/plain": [
       "<matplotlib.figure.Figure at 0x27399a48710>"
      ]
     },
     "metadata": {},
     "output_type": "display_data"
    }
   ],
   "source": [
    "fig = plt.figure()\n",
    "ax = fig.add_subplot(1, 1, 1)\n",
    "ax.set_xscale('log')\n",
    "\n",
    "plt.errorbar(ran, gbs_frame.mean(), gbs_frame.std(), linestyle='--', marker='^', color='black')\n",
    "plt.savefig('gbs_occ')\n",
    "\n",
    "plt.show()"
   ]
  },
  {
   "cell_type": "code",
   "execution_count": 340,
   "metadata": {},
   "outputs": [
    {
     "data": {
      "image/png": "[encoded data removed]",
      "text/plain": [
       "<matplotlib.figure.Figure at 0x2739808e6a0>"
      ]
     },
     "metadata": {},
     "output_type": "display_data"
    }
   ],
   "source": [
    "fig = plt.figure()\n",
    "ax = fig.add_subplot(1, 1, 1)\n",
    "ax.set_xscale('log')\n",
    "\n",
    "plt.errorbar(ran, gesis_frame.mean(), gesis_frame.std(), linestyle='--', marker='^', color='black')\n",
    "plt.savefig('gesis_occ')\n",
    "plt.show()"
   ]
  },
  {
   "cell_type": "code",
   "execution_count": 324,
   "metadata": {},
   "outputs": [
    {
     "name": "stdout",
     "output_type": "stream",
     "text": [
      "0.7093425605536332\n"
     ]
    }
   ],
   "source": [
    "#best = 0.9**11\n",
    "#lowerBound = 410/578\n",
    "print(420/578)"
   ]
  },
  {
   "cell_type": "code",
   "execution_count": null,
   "metadata": {},
   "outputs": [],
   "source": []
  }
 ],
 "metadata": {
  "kernelspec": {
   "display_name": "Python 3",
   "language": "python",
   "name": "python3"
  },
  "language_info": {
   "codemirror_mode": {
    "name": "ipython",
    "version": 3
   },
   "file_extension": ".py",
   "mimetype": "text/x-python",
   "name": "python",
   "nbconvert_exporter": "python",
   "pygments_lexer": "ipython3",
   "version": "3.6.5"
  }
 },
 "nbformat": 4,
 "nbformat_minor": 2
}

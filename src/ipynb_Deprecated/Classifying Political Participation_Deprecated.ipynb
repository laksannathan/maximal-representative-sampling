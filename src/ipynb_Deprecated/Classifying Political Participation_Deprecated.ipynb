{
 "cells": [
  {
   "cell_type": "markdown",
   "metadata": {},
   "source": [
    "### This notebook uses the BIG FIVE to predict Political Participation"
   ]
  },
  {
   "cell_type": "code",
   "execution_count": 81,
   "metadata": {},
   "outputs": [
    {
     "name": "stdout",
     "output_type": "stream",
     "text": [
      "True Positive: 2 - False Positive: 2 - True Negative: 1611 - False Negative: 189\n",
      "True Positive: 2 - False Positive: 6 - True Negative: 1607 - False Negative: 189\n",
      "True Positive: 3 - False Positive: 5 - True Negative: 1610 - False Negative: 186\n",
      "True Positive: 0 - False Positive: 4 - True Negative: 1634 - False Negative: 166\n",
      "True Positive: 1 - False Positive: 3 - True Negative: 1617 - False Negative: 183\n",
      "True Positive: 0 - False Positive: 1 - True Negative: 1611 - False Negative: 192\n",
      "True Positive: 5 - False Positive: 8 - True Negative: 1597 - False Negative: 194\n",
      "True Positive: 0 - False Positive: 8 - True Negative: 1602 - False Negative: 194\n",
      "True Positive: 4 - False Positive: 4 - True Negative: 1590 - False Negative: 206\n",
      "True Positive: 2 - False Positive: 3 - True Negative: 1625 - False Negative: 174\n"
     ]
    }
   ],
   "source": [
    "import pandas as pd\n",
    "import numpy as np\n",
    "\n",
    "from sklearn import svm\n",
    "from sklearn.ensemble import RandomForestClassifier\n",
    "\n",
    "from sklearn.model_selection import cross_val_predict\n",
    "from sklearn.metrics import confusion_matrix\n",
    "\n",
    "from sklearn.model_selection import train_test_split\n",
    "\n",
    "X = pd.read_csv('X_red.csv')\n",
    "y = pd.read_csv('y_red.csv')\n",
    "\n",
    "att =['Schlechter Schlaf','Leben genießen','Zu Nichts aufraffen','Alles anstrengend','Wahlteilnahme','Wahlabsicht',\n",
    "       'Desinteresse Politiker','Zufriedenheit Leben','Aktiv','Verärgert','Wach','Nervös','Ängstlich']\n",
    "X.drop(att,axis=1,inplace=True)\n",
    "\n",
    "#y_pred = cross_val_predict(rf,X,y.U,cv=10)\n",
    "#mat = confusion_matrix(y,y_pred)\n",
    "\n",
    "for i in range(10):\n",
    "    X_train, X_test, y_train, y_test = train_test_split(X, y.U, test_size=0.33)\n",
    "\n",
    "    rf = RandomForestClassifier(n_estimators=200, max_depth=10)\n",
    "    rf.fit(X_train,y_train)\n",
    "\n",
    "    print(\"True Positive:\",confusion_matrix(y_test,rf.predict(X_test))[0][0],\n",
    "         \"- False Positive:\",confusion_matrix(y_test,rf.predict(X_test))[1][0],\n",
    "          \"- True Negative:\",confusion_matrix(y_test,rf.predict(X_test))[1][1],\n",
    "          \"- False Negative:\",confusion_matrix(y_test,rf.predict(X_test))[0][1])"
   ]
  },
  {
   "cell_type": "code",
   "execution_count": 79,
   "metadata": {},
   "outputs": [
    {
     "data": {
      "text/plain": [
       "array([[   0,  191],\n",
       "       [   0, 1613]], dtype=int64)"
      ]
     },
     "execution_count": 79,
     "metadata": {},
     "output_type": "execute_result"
    }
   ],
   "source": [
    "confusion_matrix(y_test,rf.predict(X_test))"
   ]
  },
  {
   "cell_type": "code",
   "execution_count": null,
   "metadata": {},
   "outputs": [],
   "source": []
  }
 ],
 "metadata": {
  "kernelspec": {
   "display_name": "Python 3",
   "language": "python",
   "name": "python3"
  },
  "language_info": {
   "codemirror_mode": {
    "name": "ipython",
    "version": 3
   },
   "file_extension": ".py",
   "mimetype": "text/x-python",
   "name": "python",
   "nbconvert_exporter": "python",
   "pygments_lexer": "ipython3",
   "version": "3.6.5"
  }
 },
 "nbformat": 4,
 "nbformat_minor": 2
}

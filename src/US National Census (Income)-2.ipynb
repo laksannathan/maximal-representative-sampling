{
 "cells": [
  {
   "cell_type": "markdown",
   "metadata": {},
   "source": [
    "## US National Census (Income)\n",
    "\n",
    "*About this Dataset*\n",
    "\n",
    "**US Adult Census** (1994) relates income to social factors: \n",
    "\n",
    "- *age*: continuous.\n",
    "- *workclass*: Private, Self-emp-not-inc, Self-emp-inc, Federal-gov, Local-gov, State-gov, Without-pay, Never-worked.\n",
    "- *fnlwgt*: continuous.\n",
    "- *education*: Bachelors, Some-college, 11th, HS-grad, Prof-school, Assoc-acdm, Assoc-voc, 9th, 7th-8th, 12th, Masters, 1st-4th, 10th, Doctorate, 5th-6th, Preschool.\n",
    "- *education-num*: continuous.\n",
    "- *marital-status*: Married-civ-spouse, Divorced, Never-married, Separated, Widowed, Married-spouse-absent, Married-AF-spouse.\n",
    "- *occupation*: Tech-support, Craft-repair, Other-service, Sales, Exec-managerial, Prof-specialty, Handlers-cleaners, Machine-op-inspct, Adm-clerical, Farming-fishing, Transport-moving, Priv-house-serv, Protective-serv, Armed-Forces.\n",
    "- *relationship*: Wife, Own-child, Husband, Not-in-family, Other-relative, Unmarried.\n",
    "- *race*: White, Asian-Pac-Islander, Amer-Indian-Eskimo, Other, Black.\n",
    "- *sex*: Female, Male.\n",
    "- *capital-gain*: continuous.\n",
    "- *capital-loss*: continuous.\n",
    "- *hours-per-week*: continuous.\n",
    "- *native-country*: United-States, Cambodia, England, Puerto-Rico, Canada, Germany, Outlying-US(Guam-USVI-etc), India, Japan, Greece, South, China, Cuba, Iran, Honduras, Philippines, Italy, Poland, Jamaica, Vietnam, Mexico, Portugal, Ireland, France, Dominican-Republic, Laos, Ecuador, Taiwan, Haiti, Columbia, Hungary, Guatemala, Nicaragua, Scotland, Thailand, Yugoslavia, El-Salvador, Trinadad&Tobago, Peru, Hong, Holand-Netherlands.\n",
    "\n",
    "Each row is labelled as either having a salary greater than \">50K\" or \"<=50K\".\n",
    "\n",
    "Note: This Dataset was obtained from the UCI repository, it can be found on\n",
    "\n",
    "https://archive.ics.uci.edu/ml/datasets/census+income, http://mlr.cs.umass.edu/ml/machine-learning-databases/adult/\n",
    "\n",
    "### Preprocessing"
   ]
  },
  {
   "cell_type": "code",
   "execution_count": 35,
   "metadata": {},
   "outputs": [],
   "source": [
    "from pathlib import Path\n",
    "import os\n",
    "import pandas as pd\n",
    "import numpy as np\n",
    "np.seterr(divide = 'ignore')\n",
    "import seaborn as sns; sns.set()\n",
    "import matplotlib.pyplot as plt\n",
    "\n",
    "from sklearn.ensemble import RandomForestClassifier\n",
    "from sklearn import metrics\n",
    "from sklearn.metrics import classification_report\n",
    "from sklearn.model_selection import cross_val_predict\n",
    "from scipy import stats\n",
    "\n",
    "%run utils.py\n",
    "\n",
    "path = Path(os.getcwd()).parent\n",
    "\n",
    "columns = ['Age','Workclass','fnlgwt','Education','Education Num','Marital Status',\n",
    "           'Occupation','Relationship','Race','Sex','Capital Gain','Capital Loss',\n",
    "           'Hours/Week','Country','Above/Below 50K']\n",
    "\n",
    "train = pd.read_csv(os.path.join(path, 'data/census_income/adult.data'), names=columns)\n",
    "test = pd.read_csv(os.path.join(path, 'data/census_income/adult.test'), names=columns)\n",
    "test = test.iloc[1:] # drop first row from test set\n",
    "\n",
    "df = pd.concat([train, test])"
   ]
  },
  {
   "cell_type": "code",
   "execution_count": 36,
   "metadata": {},
   "outputs": [],
   "source": [
    "df.replace(' >50K.', ' >50K', inplace=True)\n",
    "df.replace(' <=50K.', ' <=50K', inplace=True)\n",
    "\n",
    "df.dropna()\n",
    "df.reset_index()\n",
    "\n",
    "ctg = ['Workclass', 'Sex', 'Education', 'Marital Status', \n",
    "       'Occupation', 'Relationship', 'Race', 'Country'] # Categorical to Numerical\n",
    "\n",
    "for c in ctg:\n",
    "    df = pd.concat([df, pd.get_dummies(df[c], \n",
    "                                       prefix=c,\n",
    "                                       dummy_na=False)], axis=1).drop([c],axis=1)\n",
    "\n",
    "df_high = df[df['Above/Below 50K'] == \" >50K\"].copy(deep=True)\n",
    "df_low = df[df['Above/Below 50K'] == \" <=50K\"].copy(deep=True)"
   ]
  },
  {
   "cell_type": "markdown",
   "metadata": {},
   "source": [
    "### Experiment\n",
    "\n",
    "- dropping only one instance at a time?\n",
    "- how to find a good temperature value?\n",
    "- https://www.sciencedirect.com/science/article/abs/pii/S0167865513000020\n"
   ]
  },
  {
   "cell_type": "code",
   "execution_count": 37,
   "metadata": {},
   "outputs": [
    {
     "name": "stdout",
     "output_type": "stream",
     "text": [
      " <=50K    37155\n",
      " >50K     11687\n",
      "Name: Above/Below 50K, dtype: int64\n",
      " <=50K    21000\n",
      " >50K     11687\n",
      "Name: Above/Below 50K, dtype: int64\n"
     ]
    }
   ],
   "source": [
    "# Randomize data\n",
    "df_low = df_low.reindex(np.random.permutation(df_low.index))\n",
    "df_high = df_high.reindex(np.random.permutation(df_high.index))\n",
    "\n",
    "rep = df.copy(deep=True)\n",
    "non_rep = pd.concat([df_low.head(21000).copy(deep=True),\n",
    "                     df_high.copy(deep=True)], sort=True)\n",
    "\n",
    "print(rep['Above/Below 50K'].value_counts())\n",
    "print(non_rep['Above/Below 50K'].value_counts())\n",
    "\n",
    "rep['label'] = 'rep'\n",
    "non_rep['label'] = 'nonrep'"
   ]
  },
  {
   "cell_type": "markdown",
   "metadata": {},
   "source": [
    "## KS-Test and ROC-curve\n",
    "\n",
    "The **Kolmogorov-Smirnov test** can be used to test the null hypothesis that the population distribution from which the data sample is drawn is a uniform distribution.\n",
    "\n",
    "If the P value is small, conclude that the two groups were sampled from populations with different distributions. The populations may differ in median, variability or the shape of the distribution. "
   ]
  },
  {
   "cell_type": "code",
   "execution_count": 38,
   "metadata": {},
   "outputs": [
    {
     "name": "stdout",
     "output_type": "stream",
     "text": [
      "KstestResult(statistic=0.49034940306418284, pvalue=0.0)\n",
      "KstestResult(statistic=0.5, pvalue=0.0)\n"
     ]
    }
   ],
   "source": [
    "from random import uniform\n",
    "\n",
    "example_preds = []\n",
    "\n",
    "for i in range(100):\n",
    "    example_preds.append(uniform(0.49, 0.51))\n",
    "\n",
    "print(kstest(example_preds, 'uniform'))\n",
    "\n",
    "example_preds = 250*[1.0]+250*[0.0]\n",
    "\n",
    "print(kstest(example_preds, 'uniform'))"
   ]
  },
  {
   "cell_type": "markdown",
   "metadata": {},
   "source": [
    "# MRS Algorithm"
   ]
  },
  {
   "cell_type": "code",
   "execution_count": 45,
   "metadata": {
    "scrolled": true
   },
   "outputs": [
    {
     "name": "stdout",
     "output_type": "stream",
     "text": [
      "Ks_2sampResult(statistic=0.24693199396917387, pvalue=0.0)\n",
      "auc = 0.6638569279422423\n",
      "length of current dataframe: 81033\n",
      "Ks_2sampResult(statistic=0.245085156188033, pvalue=0.0)\n",
      "auc = 0.6636961624173061\n",
      "length of current dataframe: 80534\n",
      "Ks_2sampResult(statistic=0.24587370281197857, pvalue=0.0)\n",
      "auc = 0.6631855390933518\n",
      "length of current dataframe: 80038\n",
      "Ks_2sampResult(statistic=0.24424267734543098, pvalue=0.0)\n",
      "auc = 0.6617716463123064\n",
      "length of current dataframe: 79542\n",
      "Ks_2sampResult(statistic=0.2459215409011739, pvalue=0.0)\n",
      "auc = 0.6631442120734347\n",
      "length of current dataframe: 79052\n",
      "Ks_2sampResult(statistic=0.24531529463075652, pvalue=0.0)\n",
      "auc = 0.6612353392949035\n",
      "length of current dataframe: 78554\n",
      "Ks_2sampResult(statistic=0.24423676582958137, pvalue=0.0)\n",
      "auc = 0.6607144414390852\n",
      "length of current dataframe: 78058\n",
      "Ks_2sampResult(statistic=0.2436228982031738, pvalue=0.0)\n",
      "auc = 0.6610985955230056\n",
      "length of current dataframe: 77564\n",
      "Ks_2sampResult(statistic=0.2431756594299645, pvalue=0.0)\n",
      "auc = 0.6587804237418781\n",
      "length of current dataframe: 77065\n",
      "Ks_2sampResult(statistic=0.24303513686809086, pvalue=0.0)\n",
      "auc = 0.6589964446330365\n",
      "length of current dataframe: 76574\n",
      "Ks_2sampResult(statistic=0.24264358609723097, pvalue=0.0)\n",
      "auc = 0.6585454593545483\n",
      "length of current dataframe: 76080\n",
      "Ks_2sampResult(statistic=0.24128852107882692, pvalue=0.0)\n",
      "auc = 0.6574708709498105\n",
      "length of current dataframe: 75587\n",
      "Ks_2sampResult(statistic=0.2420961439977421, pvalue=0.0)\n",
      "auc = 0.6563997842436639\n",
      "length of current dataframe: 75091\n",
      "Ks_2sampResult(statistic=0.24026043636644095, pvalue=0.0)\n",
      "auc = 0.6552341514922498\n",
      "length of current dataframe: 74592\n",
      "Ks_2sampResult(statistic=0.24082555404683637, pvalue=0.0)\n",
      "auc = 0.655924380682587\n",
      "length of current dataframe: 74094\n",
      "Ks_2sampResult(statistic=0.24143270080794482, pvalue=0.0)\n",
      "auc = 0.6556717171170456\n",
      "length of current dataframe: 73604\n",
      "Ks_2sampResult(statistic=0.24184231766498787, pvalue=0.0)\n",
      "auc = 0.6557252815800825\n",
      "length of current dataframe: 73106\n",
      "Ks_2sampResult(statistic=0.2403645889365651, pvalue=0.0)\n",
      "auc = 0.6560356079876839\n",
      "length of current dataframe: 72612\n",
      "Ks_2sampResult(statistic=0.24080262776951405, pvalue=0.0)\n",
      "auc = 0.6540818307224325\n",
      "length of current dataframe: 72116\n",
      "Ks_2sampResult(statistic=0.24053289399599703, pvalue=0.0)\n",
      "auc = 0.6548342772674051\n",
      "length of current dataframe: 71619\n",
      "Ks_2sampResult(statistic=0.24058029280092386, pvalue=0.0)\n",
      "auc = 0.655422082038821\n",
      "length of current dataframe: 71127\n",
      "Ks_2sampResult(statistic=0.23985371705698144, pvalue=0.0)\n",
      "auc = 0.6539995740099833\n",
      "length of current dataframe: 70633\n",
      "Ks_2sampResult(statistic=0.23938544297556363, pvalue=0.0)\n",
      "auc = 0.6522281875745913\n",
      "length of current dataframe: 70141\n",
      "Ks_2sampResult(statistic=0.2386215916600592, pvalue=0.0)\n",
      "auc = 0.6520560625322557\n",
      "length of current dataframe: 69647\n",
      "Ks_2sampResult(statistic=0.2377827692711298, pvalue=0.0)\n",
      "auc = 0.6506927294838767\n",
      "length of current dataframe: 69152\n",
      "Ks_2sampResult(statistic=0.23939421562887853, pvalue=0.0)\n",
      "auc = 0.6511240335246973\n",
      "length of current dataframe: 68660\n",
      "Ks_2sampResult(statistic=0.23736222078748825, pvalue=0.0)\n",
      "auc = 0.6522925257752743\n",
      "length of current dataframe: 68163\n",
      "Ks_2sampResult(statistic=0.23874947610756908, pvalue=0.0)\n",
      "auc = 0.6514379286219121\n",
      "length of current dataframe: 67670\n",
      "Ks_2sampResult(statistic=0.23538304510587138, pvalue=0.0)\n",
      "auc = 0.6489195705576376\n",
      "length of current dataframe: 67180\n",
      "Ks_2sampResult(statistic=0.2340500294301454, pvalue=0.0)\n",
      "auc = 0.6490523872189639\n",
      "length of current dataframe: 66690\n",
      "Ks_2sampResult(statistic=0.23435280223210686, pvalue=0.0)\n",
      "auc = 0.6499946058223438\n",
      "length of current dataframe: 66194\n",
      "Ks_2sampResult(statistic=0.23480437698105988, pvalue=0.0)\n",
      "auc = 0.6497755069513255\n",
      "length of current dataframe: 65701\n",
      "Ks_2sampResult(statistic=0.23397232132812917, pvalue=0.0)\n",
      "auc = 0.6496052492870046\n",
      "length of current dataframe: 65206\n",
      "Ks_2sampResult(statistic=0.23470607690726125, pvalue=0.0)\n",
      "auc = 0.650018440051235\n",
      "length of current dataframe: 64713\n",
      "Ks_2sampResult(statistic=0.23394234879896436, pvalue=0.0)\n",
      "auc = 0.6494265283730581\n",
      "length of current dataframe: 64219\n",
      "Ks_2sampResult(statistic=0.23512150489527472, pvalue=0.0)\n",
      "auc = 0.6468188669184577\n",
      "length of current dataframe: 63725\n",
      "Ks_2sampResult(statistic=0.23444809123428734, pvalue=0.0)\n",
      "auc = 0.6487513430071528\n",
      "length of current dataframe: 63229\n",
      "Ks_2sampResult(statistic=0.23408409803801639, pvalue=0.0)\n",
      "auc = 0.6475946512448163\n",
      "length of current dataframe: 62737\n",
      "Ks_2sampResult(statistic=0.2338368428406855, pvalue=0.0)\n",
      "auc = 0.64725781533556\n",
      "length of current dataframe: 62248\n",
      "Ks_2sampResult(statistic=0.23335570321424992, pvalue=0.0)\n",
      "auc = 0.6466593652128136\n",
      "length of current dataframe: 61752\n",
      "Ks_2sampResult(statistic=0.23398373924862648, pvalue=0.0)\n",
      "auc = 0.646831261117574\n",
      "length of current dataframe: 61259\n",
      "Ks_2sampResult(statistic=0.23215406919493564, pvalue=0.0)\n",
      "auc = 0.643840879415142\n",
      "length of current dataframe: 60770\n",
      "Ks_2sampResult(statistic=0.22940906356696128, pvalue=0.0)\n",
      "auc = 0.6412719662463504\n",
      "length of current dataframe: 60283\n",
      "Ks_2sampResult(statistic=0.22816060202649835, pvalue=0.0)\n",
      "auc = 0.6406677042420801\n",
      "length of current dataframe: 59794\n",
      "Ks_2sampResult(statistic=0.22835390786367532, pvalue=0.0)\n",
      "auc = 0.6402382045810023\n",
      "length of current dataframe: 59302\n",
      "Ks_2sampResult(statistic=0.22778183869470786, pvalue=0.0)\n",
      "auc = 0.6380012898590988\n",
      "length of current dataframe: 58815\n",
      "Ks_2sampResult(statistic=0.23008616375155827, pvalue=0.0)\n",
      "auc = 0.6397702668539779\n",
      "length of current dataframe: 58326\n",
      "Ks_2sampResult(statistic=0.23086571185590937, pvalue=0.0)\n",
      "auc = 0.6388524258729258\n",
      "length of current dataframe: 57840\n",
      "Ks_2sampResult(statistic=0.22998063177499428, pvalue=0.0)\n",
      "auc = 0.6390112308069338\n",
      "length of current dataframe: 57353\n",
      "Ks_2sampResult(statistic=0.2302613903244723, pvalue=1.133367e-318)\n",
      "auc = 0.638968192952367\n",
      "length of current dataframe: 56864\n",
      "Ks_2sampResult(statistic=0.226102195640851, pvalue=3.383055241849436e-291)\n",
      "auc = 0.636996562521762\n",
      "length of current dataframe: 56378\n",
      "Ks_2sampResult(statistic=0.2295453408850815, pvalue=3.201151433633234e-283)\n",
      "auc = 0.6364732542614169\n",
      "length of current dataframe: 55891\n",
      "Ks_2sampResult(statistic=0.226747314328471, pvalue=8.501604937989485e-260)\n",
      "auc = 0.6347919007003667\n",
      "length of current dataframe: 55410\n",
      "Ks_2sampResult(statistic=0.22870504925593488, pvalue=2.5525639737233777e-247)\n",
      "auc = 0.6338913689505951\n",
      "length of current dataframe: 54934\n",
      "Ks_2sampResult(statistic=0.22517403273645137, pvalue=7.208939473593751e-223)\n",
      "auc = 0.6330011348650862\n",
      "length of current dataframe: 54454\n",
      "Ks_2sampResult(statistic=0.22579148192959547, pvalue=8.283052878439815e-207)\n",
      "auc = 0.6313081465573549\n",
      "length of current dataframe: 53974\n",
      "Ks_2sampResult(statistic=0.22164393446644898, pvalue=1.2546502312421026e-182)\n",
      "auc = 0.6317267090362144\n",
      "length of current dataframe: 53502\n",
      "Ks_2sampResult(statistic=0.22063707466840887, pvalue=2.8484104708756995e-164)\n",
      "auc = 0.6294265965692423\n",
      "length of current dataframe: 53033\n",
      "Ks_2sampResult(statistic=0.2148826180964119, pvalue=7.582102529994282e-140)\n",
      "auc = 0.6239149837449501\n",
      "length of current dataframe: 52568\n",
      "Ks_2sampResult(statistic=0.22656679589407308, pvalue=3.3042815461616306e-137)\n",
      "auc = 0.6301538788746385\n",
      "length of current dataframe: 52100\n",
      "Ks_2sampResult(statistic=0.221990547233265, pvalue=2.8057535696217612e-114)\n",
      "auc = 0.630456817550782\n",
      "length of current dataframe: 51641\n",
      "Ks_2sampResult(statistic=0.2189625052387124, pvalue=3.637428768519321e-94)\n",
      "auc = 0.6271925149042362\n",
      "length of current dataframe: 51189\n",
      "Ks_2sampResult(statistic=0.21495907352245353, pvalue=3.2763348118468637e-74)\n",
      "auc = 0.6255538729853335\n",
      "length of current dataframe: 50741\n",
      "Ks_2sampResult(statistic=0.21030427211313896, pvalue=2.5879765983465816e-55)\n",
      "auc = 0.619951587662185\n",
      "length of current dataframe: 50304\n",
      "Ks_2sampResult(statistic=0.20777290335926696, pvalue=5.6160388984766765e-39)\n",
      "auc = 0.6221916377938782\n",
      "length of current dataframe: 49884\n",
      "Ks_2sampResult(statistic=0.22019365127281998, pvalue=7.890118489990495e-28)\n",
      "auc = 0.6259074091643944\n",
      "length of current dataframe: 49495\n",
      "Ks_2sampResult(statistic=0.1867500849453917, pvalue=3.662974558135707e-10)\n",
      "auc = 0.6129499008959733\n",
      "length of current dataframe: 49161\n"
     ]
    }
   ],
   "source": [
    "data = pd.concat([rep, non_rep], sort=True).copy(deep=True)\n",
    "data.reset_index(drop=True, inplace=True)\n",
    "data['probs'] = len(data.label)*[0]\n",
    "\n",
    "temperature = 1 \n",
    "max_drop = 500\n",
    "\n",
    "ks = []\n",
    "auc = []\n",
    "ratio = []\n",
    "subset = []\n",
    "\n",
    "while (len(data[data.label == 'nonrep']) > max_drop):\n",
    "\n",
    "    rf = RandomForestClassifier(n_estimators=200, \n",
    "                                bootstrap=True,\n",
    "                                max_depth=7,\n",
    "                                oob_score=True,\n",
    "                                n_jobs=-1)\n",
    "    \n",
    "    probs = cross_val_predict(rf,\n",
    "                              data.drop(['label', 'Above/Below 50K', 'probs'], axis=1),\n",
    "                              data['label'], \n",
    "                              cv=3,\n",
    "                              method='predict_proba')\n",
    "    \n",
    "    preds = cross_val_predict(rf,\n",
    "                              data.drop(['label', 'Above/Below 50K', 'probs'], axis=1),\n",
    "                              data['label'], \n",
    "                              cv=3)\n",
    "    \n",
    "    if preds[0] == 'nonrep' and round(probs[0][0], 0) == 1:\n",
    "        data['probs'] = [p[0] for p in probs]\n",
    "    else:\n",
    "        data['probs'] = [p[1] for p in probs]\n",
    "    \n",
    "    drop_id = []\n",
    "    for _ in range(max_drop):\n",
    "        softmax = sample(data[data.label == 'nonrep']['probs'], temperature)\n",
    "        drop = data[data.label == 'nonrep'].iloc[[np.argmax(softmax)]].index[0]\n",
    "        drop_id.append(drop)\n",
    "        \n",
    "    data.drop(data.index[drop_id], inplace=True)\n",
    "    data.reset_index(drop=True, inplace=True)\n",
    "\n",
    "    # EVALUATION\n",
    "    subset.append(len(data[data.label == 'nonrep']))\n",
    "    ratio.append(data[data.label == 'nonrep']['Above/Below 50K'].value_counts()[0]/\n",
    "                 data[data.label == 'nonrep']['Above/Below 50K'].value_counts()[1])\n",
    "    ks_two = stats.ks_2samp(data[data.label == 'nonrep']['probs'], data[data.label == 'rep']['probs'])\n",
    "    ks.append(ks_two)\n",
    "    auc.append(metrics.roc_auc_score([1 if k == 'nonrep' else 0 for k in data.label], data.probs))\n",
    "    \n",
    "    #print('auc =', metrics.roc_auc_score([1 if k == 'nonrep' else 0 for k in data.label], data.probs))\n",
    "    #print('length of current dataframe:', len(data.label))"
   ]
  },
  {
   "cell_type": "markdown",
   "metadata": {},
   "source": [
    "## Results\n",
    "\n",
    "**More/Less than 50K**\n",
    "\n",
    "**Representative Sample:**\n",
    "- more: 37155\n",
    "- less: 11687\n",
    "- 3.18 : 1\n",
    "\n",
    "\n",
    "**Non-Representative Sample:**\n",
    "- more: 21000\n",
    "- less: 11687\n",
    "- 1.80 : 1\n",
    "\n",
    "\n",
    "**MRS corrected Sample:**\n",
    "- more: 6363\n",
    "- less: 2542\n",
    "- 2.50 : 1"
   ]
  },
  {
   "cell_type": "code",
   "execution_count": 73,
   "metadata": {},
   "outputs": [],
   "source": [
    "import seaborn as sns; sns.set()\n",
    "import matplotlib.pyplot as plt\n",
    "\n",
    "subset = [21000+11687-i for i in subset]"
   ]
  },
  {
   "cell_type": "code",
   "execution_count": 65,
   "metadata": {},
   "outputs": [
    {
     "data": {
      "image/png": "[encoded data removed]",
      "text/plain": [
       "<Figure size 432x288 with 1 Axes>"
      ]
     },
     "metadata": {},
     "output_type": "display_data"
    }
   ],
   "source": [
    "ax = sns.lineplot(x=subset, y=auc)\n",
    "plt.title('auc')\n",
    "plt.show()"
   ]
  },
  {
   "cell_type": "code",
   "execution_count": 69,
   "metadata": {},
   "outputs": [
    {
     "data": {
      "image/png": "[encoded data removed]",
      "text/plain": [
       "<Figure size 432x288 with 1 Axes>"
      ]
     },
     "metadata": {},
     "output_type": "display_data"
    }
   ],
   "source": [
    "ax = sns.lineplot(x=subset, y=ratio)\n",
    "ax = sns.lineplot(x=subset, y=len(ratio)*[3.18])\n",
    "\n",
    "plt.title('ratio')\n",
    "plt.show()"
   ]
  },
  {
   "cell_type": "code",
   "execution_count": 70,
   "metadata": {},
   "outputs": [
    {
     "data": {
      "image/png": "[encoded data removed]",
      "text/plain": [
       "<Figure size 432x288 with 1 Axes>"
      ]
     },
     "metadata": {},
     "output_type": "display_data"
    }
   ],
   "source": [
    "ax = sns.lineplot(x=subset, y=[a[0] for a in ks])\n",
    "plt.title('ks-stats')\n",
    "plt.show()"
   ]
  },
  {
   "cell_type": "code",
   "execution_count": 71,
   "metadata": {},
   "outputs": [
    {
     "data": {
      "image/png": "[encoded data removed]",
      "text/plain": [
       "<Figure size 432x288 with 1 Axes>"
      ]
     },
     "metadata": {},
     "output_type": "display_data"
    }
   ],
   "source": [
    "ax = sns.lineplot(x=subset, y=[a[1] for a in ks])\n",
    "plt.title('p-value')\n",
    "plt.show()"
   ]
  },
  {
   "cell_type": "code",
   "execution_count": null,
   "metadata": {},
   "outputs": [],
   "source": []
  }
 ],
 "metadata": {
  "kernelspec": {
   "display_name": "Python 3",
   "language": "python",
   "name": "python3"
  },
  "language_info": {
   "codemirror_mode": {
    "name": "ipython",
    "version": 3
   },
   "file_extension": ".py",
   "mimetype": "text/x-python",
   "name": "python",
   "nbconvert_exporter": "python",
   "pygments_lexer": "ipython3",
   "version": "3.6.5"
  }
 },
 "nbformat": 4,
 "nbformat_minor": 2
}

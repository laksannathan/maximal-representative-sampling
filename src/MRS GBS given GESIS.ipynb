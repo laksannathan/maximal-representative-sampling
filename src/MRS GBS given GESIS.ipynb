{
 "cells": [
  {
   "cell_type": "code",
   "execution_count": 27,
   "metadata": {},
   "outputs": [],
   "source": [
    "\n",
    "from pathlib import Path\n",
    "import os\n",
    "import pandas as pd\n",
    "import numpy as np\n",
    "np.seterr(divide = 'ignore')\n",
    "\n",
    "from sklearn.ensemble import RandomForestClassifier\n",
    "from sklearn import metrics\n",
    "from sklearn.metrics import classification_report\n",
    "from sklearn.model_selection import cross_val_predict\n",
    "from scipy.stats import kstest\n",
    "\n",
    "path = Path(os.getcwd()).parent\n",
    "\n",
    "%run utils.py"
   ]
  },
  {
   "cell_type": "code",
   "execution_count": 28,
   "metadata": {},
   "outputs": [],
   "source": [
    "gbs = pd.read_csv(os.path.join(path, 'data/gbs_processed.csv'), encoding = \"ISO-8859-1\", delimiter = ',')\n",
    "gesis = pd.read_csv(os.path.join(path, 'data/gesis_processed.csv'), encoding = \"ISO-8859-1\", delimiter = ',')\n",
    "\n",
    "gbs = gbs.fillna(gbs.median())\n",
    "gesis = gesis.fillna(gesis.median())"
   ]
  },
  {
   "cell_type": "code",
   "execution_count": 29,
   "metadata": {},
   "outputs": [],
   "source": [
    "gesis.drop(columns = ['GESIS-CODE'], axis=1, inplace = True)\n",
    "gbs.drop(columns = ['GBS-CODE', 'Gruppe'], axis=1, inplace = True)\n",
    "\n",
    "drop = ['Personen im Haushalt', 'Druck', 'Optimismus Zukunft', 'Geburtsland', 'Nationalitaet',\n",
    "       'Familienstand', 'Hoechster Bildungsabschluss', 'Berufliche Ausbildung',\n",
    "       'Berufsgruppe', 'Leben genießen', 'Zu Nichts aufraffen',\n",
    "       'Alles anstrengend', 'Zufriedenheit Leben', 'Aktiv', 'Verärgert',\n",
    "       'Zufriedenheit Wahlergebnis', 'Resilienz', 'Wach', 'Nervös', 'Ängstlich', 'Zurueckhaltend',\n",
    "       'Nettoeinkommen Selbst', 'Nettoeinkommen Haushalt', 'Schlechter Schlaf',\n",
    "       'Wahlabsicht', 'Desinteresse Politiker', 'Erwerbstaetigkeit', 'Geburtsjahr',\n",
    "        'wenig kuenstlerisches Interesse', 'leicht Vertrauen', 'Wahlteilnahme']\n",
    "\n",
    "gbs.drop(columns=drop, axis=1, inplace=True)\n",
    "gesis.drop(columns=drop, axis=1, inplace=True)\n",
    "\n",
    "non_rep = gbs.copy(deep=True)\n",
    "rep = gesis.copy(deep=True)\n",
    "\n",
    "rep['label'] = 'rep'\n",
    "non_rep['label'] = 'nonrep'"
   ]
  },
  {
   "cell_type": "code",
   "execution_count": 31,
   "metadata": {
    "scrolled": true
   },
   "outputs": [
    {
     "name": "stdout",
     "output_type": "stream",
     "text": [
      "KstestResult(statistic=0.7304331514183564, pvalue=0.0)\n",
      "auc = 0.6496522290959217\n",
      "length of current dataframe: 4809\n",
      "KstestResult(statistic=0.7421673088805516, pvalue=0.0)\n",
      "auc = 0.6425128352640709\n",
      "length of current dataframe: 4789\n",
      "KstestResult(statistic=0.7451821346581469, pvalue=0.0)\n",
      "auc = 0.6365171895649655\n",
      "length of current dataframe: 4769\n",
      "KstestResult(statistic=0.752841673922663, pvalue=0.0)\n",
      "auc = 0.633568119115969\n",
      "length of current dataframe: 4750\n",
      "KstestResult(statistic=0.7617366579961767, pvalue=0.0)\n",
      "auc = 0.6339411489830514\n",
      "length of current dataframe: 4732\n",
      "KstestResult(statistic=0.7702027898090142, pvalue=0.0)\n",
      "auc = 0.6247780918025336\n",
      "length of current dataframe: 4713\n",
      "KstestResult(statistic=0.7785552693861858, pvalue=0.0)\n",
      "auc = 0.6204153786350258\n",
      "length of current dataframe: 4694\n",
      "KstestResult(statistic=0.7892111357644381, pvalue=0.0)\n",
      "auc = 0.6148865476998048\n",
      "length of current dataframe: 4674\n",
      "KstestResult(statistic=0.7955399933293122, pvalue=0.0)\n",
      "auc = 0.6155414926969018\n",
      "length of current dataframe: 4654\n",
      "KstestResult(statistic=0.7981299809757211, pvalue=0.0)\n",
      "auc = 0.6136194001338742\n",
      "length of current dataframe: 4634\n",
      "KstestResult(statistic=0.8073386110893004, pvalue=0.0)\n",
      "auc = 0.6065329418558143\n",
      "length of current dataframe: 4615\n",
      "KstestResult(statistic=0.816757981201849, pvalue=0.0)\n",
      "auc = 0.6028633734969262\n",
      "length of current dataframe: 4595\n",
      "KstestResult(statistic=0.8244909623444742, pvalue=0.0)\n",
      "auc = 0.5975018300949917\n",
      "length of current dataframe: 4575\n",
      "KstestResult(statistic=0.8333288520173707, pvalue=0.0)\n",
      "auc = 0.5719498667247246\n",
      "length of current dataframe: 4556\n",
      "KstestResult(statistic=0.8375992438301104, pvalue=0.0)\n",
      "auc = 0.5529901276217483\n",
      "length of current dataframe: 4536\n",
      "KstestResult(statistic=0.8535052805488859, pvalue=0.0)\n",
      "auc = 0.54051360840136\n",
      "length of current dataframe: 4516\n",
      "KstestResult(statistic=0.8595682882395346, pvalue=0.0)\n",
      "auc = 0.533874128992485\n",
      "length of current dataframe: 4496\n",
      "KstestResult(statistic=0.8674541842647943, pvalue=0.0)\n",
      "auc = 0.5215178901902806\n",
      "length of current dataframe: 4476\n",
      "KstestResult(statistic=0.875388511400342, pvalue=0.0)\n",
      "auc = 0.5129115660200374\n",
      "length of current dataframe: 4458\n",
      "KstestResult(statistic=0.8849602400823248, pvalue=0.0)\n",
      "auc = 0.5252552421298009\n",
      "length of current dataframe: 4438\n",
      "KstestResult(statistic=0.8899717508678131, pvalue=0.0)\n",
      "auc = 0.5093973668544848\n",
      "length of current dataframe: 4419\n",
      "KstestResult(statistic=0.9012814269896143, pvalue=0.0)\n",
      "auc = 0.48021973226267495\n",
      "length of current dataframe: 4400\n",
      "KstestResult(statistic=0.905922471364986, pvalue=0.0)\n",
      "auc = 0.4868142349283422\n",
      "length of current dataframe: 4382\n",
      "KstestResult(statistic=0.914476577030797, pvalue=0.0)\n",
      "auc = 0.48066859721468985\n",
      "length of current dataframe: 4364\n",
      "KstestResult(statistic=0.9222598907132531, pvalue=0.0)\n",
      "auc = 0.47810636816505847\n",
      "length of current dataframe: 4345\n",
      "KstestResult(statistic=0.9310673618357047, pvalue=0.0)\n",
      "auc = 0.42971728642033424\n",
      "length of current dataframe: 4329\n",
      "KstestResult(statistic=0.934606525531521, pvalue=0.0)\n",
      "auc = 0.34831345515832945\n",
      "length of current dataframe: 4311\n",
      "KstestResult(statistic=0.9392822349448476, pvalue=0.0)\n",
      "auc = 0.35343985818941126\n",
      "length of current dataframe: 4296\n",
      "KstestResult(statistic=0.945026421233007, pvalue=0.0)\n",
      "auc = 0.2999636278054729\n",
      "length of current dataframe: 4282\n",
      "KstestResult(statistic=0.9527518371705284, pvalue=0.0)\n",
      "auc = 0.2349480154500021\n",
      "length of current dataframe: 4266\n"
     ]
    }
   ],
   "source": [
    "data = pd.concat([rep, non_rep], sort=True).copy(deep=True)\n",
    "data.reset_index(drop=True, inplace=True)\n",
    "data['probs'] = len(data.label)*[0]\n",
    "\n",
    "temperature = 1 \n",
    "max_drop = 20\n",
    "limit = 100\n",
    "\n",
    "ks = []\n",
    "auc = []\n",
    "\n",
    "while (len(data[data.label == 'nonrep']) > max_drop and\n",
    "       len(data.label) > limit):\n",
    "\n",
    "    rf = RandomForestClassifier(n_estimators=100, \n",
    "                                bootstrap=True,\n",
    "                                max_depth=5,\n",
    "                                oob_score=True)\n",
    "    \n",
    "    probs = cross_val_predict(rf,\n",
    "                              data.drop(['label', 'probs'], axis=1),\n",
    "                              data['label'], \n",
    "                              cv=3,\n",
    "                              method='predict_proba')\n",
    "    \n",
    "    preds = cross_val_predict(rf,\n",
    "                              data.drop(['label', 'probs'], axis=1),\n",
    "                              data['label'], \n",
    "                              cv=3)\n",
    "    \n",
    "    if preds[0] == 'nonrep' and round(probs[0][0], 0) == 1:\n",
    "        data['probs'] = [p[1] for p in probs]\n",
    "    else:\n",
    "        data['probs'] = [p[0] for p in probs]\n",
    "    \n",
    "    drop_id = []\n",
    "    for _ in range(max_drop):\n",
    "        softmax = sample(data[data.label == 'nonrep']['probs'], temperature)\n",
    "        drop = data[data.label == 'nonrep'].iloc[[np.argmax(softmax)]].index[0]\n",
    "        drop_id.append(drop)\n",
    "\n",
    "    data.drop(data.index[drop_id], inplace=True)\n",
    "    data.reset_index(drop=True, inplace=True)\n",
    "\n",
    "    # EVALUATION\n",
    "    print(kstest(data.probs, 'uniform'))\n",
    "    ks.append(kstest(data.probs, 'uniform'))\n",
    "    auc.append(metrics.roc_auc_score([1 if k == 'nonrep' else 0 for k in data.label], data.probs))\n",
    "    print('auc =', metrics.roc_auc_score([1 if k == 'nonrep' else 0 for k in data.label], data.probs))\n",
    "    print('length of current dataframe:', len(data.label))"
   ]
  },
  {
   "cell_type": "code",
   "execution_count": 34,
   "metadata": {},
   "outputs": [
    {
     "data": {
      "image/png": "[encoded data removed]",
      "text/plain": [
       "<Figure size 432x288 with 1 Axes>"
      ]
     },
     "metadata": {
      "needs_background": "light"
     },
     "output_type": "display_data"
    }
   ],
   "source": [
    "plt.plot(auc)\n",
    "plt.plot(len(auc)*[0.5])\n",
    "plt.show()"
   ]
  },
  {
   "cell_type": "code",
   "execution_count": 36,
   "metadata": {},
   "outputs": [
    {
     "name": "stdout",
     "output_type": "stream",
     "text": [
      "[KstestResult(statistic=0.7304331514183564, pvalue=0.0), KstestResult(statistic=0.7421673088805516, pvalue=0.0), KstestResult(statistic=0.7451821346581469, pvalue=0.0), KstestResult(statistic=0.752841673922663, pvalue=0.0), KstestResult(statistic=0.7617366579961767, pvalue=0.0), KstestResult(statistic=0.7702027898090142, pvalue=0.0), KstestResult(statistic=0.7785552693861858, pvalue=0.0), KstestResult(statistic=0.7892111357644381, pvalue=0.0), KstestResult(statistic=0.7955399933293122, pvalue=0.0), KstestResult(statistic=0.7981299809757211, pvalue=0.0), KstestResult(statistic=0.8073386110893004, pvalue=0.0), KstestResult(statistic=0.816757981201849, pvalue=0.0), KstestResult(statistic=0.8244909623444742, pvalue=0.0), KstestResult(statistic=0.8333288520173707, pvalue=0.0), KstestResult(statistic=0.8375992438301104, pvalue=0.0), KstestResult(statistic=0.8535052805488859, pvalue=0.0), KstestResult(statistic=0.8595682882395346, pvalue=0.0), KstestResult(statistic=0.8674541842647943, pvalue=0.0), KstestResult(statistic=0.875388511400342, pvalue=0.0), KstestResult(statistic=0.8849602400823248, pvalue=0.0), KstestResult(statistic=0.8899717508678131, pvalue=0.0), KstestResult(statistic=0.9012814269896143, pvalue=0.0), KstestResult(statistic=0.905922471364986, pvalue=0.0), KstestResult(statistic=0.914476577030797, pvalue=0.0), KstestResult(statistic=0.9222598907132531, pvalue=0.0), KstestResult(statistic=0.9310673618357047, pvalue=0.0), KstestResult(statistic=0.934606525531521, pvalue=0.0), KstestResult(statistic=0.9392822349448476, pvalue=0.0), KstestResult(statistic=0.945026421233007, pvalue=0.0), KstestResult(statistic=0.9527518371705284, pvalue=0.0)]\n"
     ]
    },
    {
     "data": {
      "text/plain": [
       "[<matplotlib.lines.Line2D at 0x9f7a50>]"
      ]
     },
     "execution_count": 36,
     "metadata": {},
     "output_type": "execute_result"
    },
    {
     "data": {
      "image/png": "[encoded data removed]",
      "text/plain": [
       "<Figure size 432x288 with 1 Axes>"
      ]
     },
     "metadata": {
      "needs_background": "light"
     },
     "output_type": "display_data"
    }
   ],
   "source": [
    "print(ks)\n",
    "plt.plot([a[0] for a in ks])"
   ]
  },
  {
   "cell_type": "code",
   "execution_count": 39,
   "metadata": {},
   "outputs": [
    {
     "data": {
      "text/plain": [
       "rep       4249\n",
       "nonrep      17\n",
       "Name: label, dtype: int64"
      ]
     },
     "execution_count": 39,
     "metadata": {},
     "output_type": "execute_result"
    }
   ],
   "source": [
    "data['label'].value_counts()"
   ]
  },
  {
   "cell_type": "code",
   "execution_count": null,
   "metadata": {},
   "outputs": [],
   "source": []
  }
 ],
 "metadata": {
  "kernelspec": {
   "display_name": "Python 3",
   "language": "python",
   "name": "python3"
  },
  "language_info": {
   "codemirror_mode": {
    "name": "ipython",
    "version": 3
   },
   "file_extension": ".py",
   "mimetype": "text/x-python",
   "name": "python",
   "nbconvert_exporter": "python",
   "pygments_lexer": "ipython3",
   "version": "3.6.5"
  }
 },
 "nbformat": 4,
 "nbformat_minor": 2
}

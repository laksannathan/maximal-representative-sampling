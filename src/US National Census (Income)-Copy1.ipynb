{
 "cells": [
  {
   "cell_type": "markdown",
   "metadata": {},
   "source": [
    "## US National Census (Income)\n",
    "\n",
    "*About this Dataset*\n",
    "\n",
    "**US Adult Census** (1994) relates income to social factors: \n",
    "\n",
    "- *age*: continuous.\n",
    "- *workclass*: Private, Self-emp-not-inc, Self-emp-inc, Federal-gov, Local-gov, State-gov, Without-pay, Never-worked.\n",
    "- *fnlwgt*: continuous.\n",
    "- *education*: Bachelors, Some-college, 11th, HS-grad, Prof-school, Assoc-acdm, Assoc-voc, 9th, 7th-8th, 12th, Masters, 1st-4th, 10th, Doctorate, 5th-6th, Preschool.\n",
    "- *education-num*: continuous.\n",
    "- *marital-status*: Married-civ-spouse, Divorced, Never-married, Separated, Widowed, Married-spouse-absent, Married-AF-spouse.\n",
    "- *occupation*: Tech-support, Craft-repair, Other-service, Sales, Exec-managerial, Prof-specialty, Handlers-cleaners, Machine-op-inspct, Adm-clerical, Farming-fishing, Transport-moving, Priv-house-serv, Protective-serv, Armed-Forces.\n",
    "- *relationship*: Wife, Own-child, Husband, Not-in-family, Other-relative, Unmarried.\n",
    "- *race*: White, Asian-Pac-Islander, Amer-Indian-Eskimo, Other, Black.\n",
    "- *sex*: Female, Male.\n",
    "- *capital-gain*: continuous.\n",
    "- *capital-loss*: continuous.\n",
    "- *hours-per-week*: continuous.\n",
    "- *native-country*: United-States, Cambodia, England, Puerto-Rico, Canada, Germany, Outlying-US(Guam-USVI-etc), India, Japan, Greece, South, China, Cuba, Iran, Honduras, Philippines, Italy, Poland, Jamaica, Vietnam, Mexico, Portugal, Ireland, France, Dominican-Republic, Laos, Ecuador, Taiwan, Haiti, Columbia, Hungary, Guatemala, Nicaragua, Scotland, Thailand, Yugoslavia, El-Salvador, Trinadad&Tobago, Peru, Hong, Holand-Netherlands.\n",
    "\n",
    "Each row is labelled as either having a salary greater than \">50K\" or \"<=50K\".\n",
    "\n",
    "Note: This Dataset was obtained from the UCI repository, it can be found on\n",
    "\n",
    "https://archive.ics.uci.edu/ml/datasets/census+income, http://mlr.cs.umass.edu/ml/machine-learning-databases/adult/\n",
    "\n",
    "### Preprocessing"
   ]
  },
  {
   "cell_type": "code",
   "execution_count": 11,
   "metadata": {},
   "outputs": [],
   "source": [
    "from pathlib import Path\n",
    "import os\n",
    "import pandas as pd\n",
    "import numpy as np\n",
    "np.seterr(divide = 'ignore')\n",
    "\n",
    "from sklearn.ensemble import RandomForestClassifier\n",
    "from sklearn import metrics\n",
    "from sklearn.metrics import classification_report\n",
    "from sklearn.model_selection import cross_val_predict\n",
    "from scipy.stats import kstest\n",
    "\n",
    "%run utils.py\n",
    "\n",
    "path = Path(os.getcwd()).parent\n",
    "\n",
    "columns = ['Age','Workclass','fnlgwt','Education','Education Num','Marital Status',\n",
    "           'Occupation','Relationship','Race','Sex','Capital Gain','Capital Loss',\n",
    "           'Hours/Week','Country','Above/Below 50K']\n",
    "\n",
    "train = pd.read_csv(os.path.join(path, 'data/census_income/adult.data'), names=columns)\n",
    "test = pd.read_csv(os.path.join(path, 'data/census_income/adult.test'), names=columns)\n",
    "test = test.iloc[1:] # drop first row from test set\n",
    "\n",
    "df = pd.concat([train, test])"
   ]
  },
  {
   "cell_type": "code",
   "execution_count": 12,
   "metadata": {},
   "outputs": [],
   "source": [
    "df.replace(' >50K.', ' >50K', inplace=True)\n",
    "df.replace(' <=50K.', ' <=50K', inplace=True)\n",
    "\n",
    "df.dropna()\n",
    "df.reset_index()\n",
    "\n",
    "ctg = ['Workclass', 'Sex', 'Education', 'Marital Status', \n",
    "       'Occupation', 'Relationship', 'Race', 'Country'] # Categorical to Numerical\n",
    "\n",
    "for c in ctg:\n",
    "    df = pd.concat([df, pd.get_dummies(df[c], \n",
    "                                       prefix=c,\n",
    "                                       dummy_na=False)], axis=1).drop([c],axis=1)\n",
    "\n",
    "df_high = df[df['Above/Below 50K'] == \" >50K\"].copy(deep=True)\n",
    "df_low = df[df['Above/Below 50K'] == \" <=50K\"].copy(deep=True)"
   ]
  },
  {
   "cell_type": "markdown",
   "metadata": {},
   "source": [
    "### Experiment\n",
    "\n",
    "- dropping only one instance at a time?\n",
    "- how to find a good temperature value?\n",
    "- https://www.sciencedirect.com/science/article/abs/pii/S0167865513000020\n"
   ]
  },
  {
   "cell_type": "code",
   "execution_count": 13,
   "metadata": {},
   "outputs": [
    {
     "name": "stdout",
     "output_type": "stream",
     "text": [
      " <=50K    37155\n",
      " >50K     11687\n",
      "Name: Above/Below 50K, dtype: int64\n",
      " <=50K    21000\n",
      " >50K       100\n",
      "Name: Above/Below 50K, dtype: int64\n"
     ]
    }
   ],
   "source": [
    "# Randomize data\n",
    "df_low = df_low.reindex(np.random.permutation(df_low.index))\n",
    "df_high = df_high.reindex(np.random.permutation(df_high.index))\n",
    "\n",
    "rep = df.copy(deep=True)\n",
    "non_rep = pd.concat([df_low.head(21000).copy(deep=True),\n",
    "                     df_high.head(100).copy(deep=True)], sort=True)\n",
    "\n",
    "print(rep['Above/Below 50K'].value_counts())\n",
    "print(non_rep['Above/Below 50K'].value_counts())\n",
    "\n",
    "rep['label'] = 'rep'\n",
    "non_rep['label'] = 'nonrep'"
   ]
  },
  {
   "cell_type": "markdown",
   "metadata": {},
   "source": [
    "## KS-Test and ROC-curve\n",
    "\n",
    "The **Kolmogorov-Smirnov test** can be used to test the null hypothesis that the population distribution from which the data sample is drawn is a uniform distribution.\n",
    "\n",
    "If the P value is small, conclude that the two groups were sampled from populations with different distributions. The populations may differ in median, variability or the shape of the distribution. "
   ]
  },
  {
   "cell_type": "code",
   "execution_count": 14,
   "metadata": {},
   "outputs": [
    {
     "data": {
      "text/plain": [
       "KstestResult(statistic=0.5000006443892051, pvalue=0.0)"
      ]
     },
     "execution_count": 14,
     "metadata": {},
     "output_type": "execute_result"
    }
   ],
   "source": [
    "from random import uniform\n",
    "\n",
    "example_preds = []\n",
    "\n",
    "for i in range(5000):\n",
    "    example_preds.append(uniform(0.5, 0.51))\n",
    "\n",
    "kstest(example_preds, 'uniform')"
   ]
  },
  {
   "cell_type": "markdown",
   "metadata": {},
   "source": [
    "# MRS Algorithm"
   ]
  },
  {
   "cell_type": "code",
   "execution_count": null,
   "metadata": {
    "scrolled": true
   },
   "outputs": [
    {
     "name": "stdout",
     "output_type": "stream",
     "text": [
      "auc = 0.5878509637114819\n",
      "length of current dataframe: 69892\n",
      "auc = 0.5878944950774216\n",
      "length of current dataframe: 69842\n",
      "auc = 0.5873090694567326\n",
      "length of current dataframe: 69792\n",
      "auc = 0.5878308240868074\n",
      "length of current dataframe: 69742\n",
      "auc = 0.5869877813812993\n",
      "length of current dataframe: 69692\n",
      "auc = 0.5871945734361663\n",
      "length of current dataframe: 69642\n",
      "auc = 0.5865659996359049\n",
      "length of current dataframe: 69592\n",
      "auc = 0.5872994514303936\n",
      "length of current dataframe: 69542\n"
     ]
    }
   ],
   "source": [
    "data = pd.concat([rep, non_rep], sort=True).copy(deep=True)\n",
    "data.reset_index(drop=True, inplace=True)\n",
    "data['probs'] = len(data.label)*[0]\n",
    "\n",
    "temperature = 1 \n",
    "max_drop = 50\n",
    "limit = 20\n",
    "\n",
    "ks = []\n",
    "auc = []\n",
    "ratio = []\n",
    "\n",
    "while (len(data[data.label == 'nonrep']) > max_drop and\n",
    "       len(data.label) > limit):\n",
    "\n",
    "    rf = RandomForestClassifier(n_estimators=100, \n",
    "                                bootstrap=True,\n",
    "                                max_depth=5,\n",
    "                                oob_score=True)\n",
    "    \n",
    "    probs = cross_val_predict(rf,\n",
    "                              data.drop(['label', 'Above/Below 50K', 'probs'], axis=1),\n",
    "                              data['label'], \n",
    "                              cv=3,\n",
    "                              method='predict_proba')\n",
    "    \n",
    "    preds = cross_val_predict(rf,\n",
    "                              data.drop(['label', 'Above/Below 50K', 'probs'], axis=1),\n",
    "                              data['label'], \n",
    "                              cv=3)\n",
    "    \n",
    "    if preds[0] == 'nonrep' and round(probs[0][0], 0) == 1:\n",
    "        data['probs'] = [p[1] for p in probs]\n",
    "    else:\n",
    "        data['probs'] = [p[0] for p in probs]\n",
    "    \n",
    "    drop_id = []\n",
    "    for _ in range(max_drop):\n",
    "        softmax = sample(data[data.label == 'nonrep']['probs'], temperature)\n",
    "        drop = data[data.label == 'nonrep'].iloc[[np.argmax(softmax)]].index[0]\n",
    "        drop_id.append(drop)\n",
    "        \n",
    "    data.drop(data.index[drop_id], inplace=True)\n",
    "    data.reset_index(drop=True, inplace=True)\n",
    "\n",
    "    # EVALUATION\n",
    "    ratio.append(data['Above/Below 50K'].value_counts()[0]/data['Above/Below 50K'].value_counts()[1])\n",
    "    ks.append(kstest(data.probs, 'uniform'))\n",
    "    auc.append(metrics.roc_auc_score([1 if k == 'nonrep' else 0 for k in data.label], data.probs))\n",
    "    print('auc =', metrics.roc_auc_score([1 if k == 'nonrep' else 0 for k in data.label], data.probs))\n",
    "    print('length of current dataframe:', len(data.label))"
   ]
  },
  {
   "cell_type": "markdown",
   "metadata": {},
   "source": [
    "## Results\n",
    "\n",
    "**More/Less than 50K**\n",
    "\n",
    "**Representative Sample:**\n",
    "- more: 37155\n",
    "- less: 11687\n",
    "- 3.18 : 1\n",
    "\n",
    "\n",
    "**Non-Representative Sample:**\n",
    "- more: 21000\n",
    "- less: 11687\n",
    "- 1.80 : 1\n",
    "\n",
    "\n",
    "**MRS corrected Sample:**\n",
    "- more: 6363\n",
    "- less: 2542\n",
    "- 2.50 : 1"
   ]
  },
  {
   "cell_type": "code",
   "execution_count": null,
   "metadata": {},
   "outputs": [],
   "source": [
    "plt.plot(auc)"
   ]
  },
  {
   "cell_type": "code",
   "execution_count": null,
   "metadata": {},
   "outputs": [],
   "source": [
    "plt.plot(ratio)"
   ]
  },
  {
   "cell_type": "code",
   "execution_count": null,
   "metadata": {
    "scrolled": true
   },
   "outputs": [],
   "source": [
    "ks"
   ]
  },
  {
   "cell_type": "code",
   "execution_count": null,
   "metadata": {},
   "outputs": [],
   "source": [
    "plt.plot([a[0] for a in ks])"
   ]
  },
  {
   "cell_type": "code",
   "execution_count": null,
   "metadata": {
    "scrolled": true
   },
   "outputs": [],
   "source": [
    "data"
   ]
  },
  {
   "cell_type": "code",
   "execution_count": null,
   "metadata": {},
   "outputs": [],
   "source": [
    " <=50K    37155\n",
    " >50K     11687\n",
    "Name: Above/Below 50K, dtype: int64\n",
    " <=50K    21000\n",
    " >50K     11687\n",
    "Name: Above/Below 50K, dtype: int64"
   ]
  },
  {
   "cell_type": "code",
   "execution_count": null,
   "metadata": {},
   "outputs": [],
   "source": [
    "print(data['Above/Below 50K'].value_counts())"
   ]
  },
  {
   "cell_type": "code",
   "execution_count": null,
   "metadata": {},
   "outputs": [],
   "source": [
    "data[data.label == 'nonrep']['Above/Below 50K'].value_counts()"
   ]
  },
  {
   "cell_type": "code",
   "execution_count": null,
   "metadata": {},
   "outputs": [],
   "source": []
  }
 ],
 "metadata": {
  "kernelspec": {
   "display_name": "Python 3",
   "language": "python",
   "name": "python3"
  },
  "language_info": {
   "codemirror_mode": {
    "name": "ipython",
    "version": 3
   },
   "file_extension": ".py",
   "mimetype": "text/x-python",
   "name": "python",
   "nbconvert_exporter": "python",
   "pygments_lexer": "ipython3",
   "version": "3.6.5"
  }
 },
 "nbformat": 4,
 "nbformat_minor": 2
}

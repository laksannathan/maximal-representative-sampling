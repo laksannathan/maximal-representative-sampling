{
 "cells": [
  {
   "cell_type": "markdown",
   "metadata": {},
   "source": [
    "\n",
    "# Maximal Representative Subsampling\n"
   ]
  },
  {
   "cell_type": "code",
   "execution_count": 1,
   "metadata": {},
   "outputs": [],
   "source": [
    "from pathlib import Path\n",
    "import os\n",
    "\n",
    "from sklearn.tree import DecisionTreeClassifier\n",
    "from sklearn.ensemble import RandomForestClassifier\n",
    "\n",
    "from sklearn.model_selection import train_test_split\n",
    "from sklearn.model_selection import GridSearchCV\n",
    "\n",
    "from sklearn import metrics\n",
    "from scipy import stats\n",
    "\n",
    "import pandas as pd\n",
    "import pandas_profiling\n",
    "#%matplotlib notebook\n",
    "import matplotlib.pyplot as plt\n",
    "import numpy as np\n",
    "np.seterr(divide = 'ignore')\n",
    "import random\n",
    "\n",
    "path = Path(os.getcwd()).parent"
   ]
  },
  {
   "cell_type": "markdown",
   "metadata": {},
   "source": [
    "<div class=\"alert alert- block alert-warning\"> <b>Done:</b> \n",
    "\n",
    "- CV auf Trainingsdaten. \"weniger komplex mit jeder weiteren Iteration\"\n",
    "- Warum sind so viele arbeitslos?\n",
    "- Donnerstag 11.07. 17 Uhr.\n",
    "\n",
    "</div>"
   ]
  },
  {
   "cell_type": "markdown",
   "metadata": {},
   "source": [
    "### Plots"
   ]
  },
  {
   "cell_type": "code",
   "execution_count": 2,
   "metadata": {},
   "outputs": [],
   "source": [
    "def plot_results(score, n, title):\n",
    "\n",
    "    labels = [s[0] for s in score]\n",
    "    preds = [s[1] for s in score]\n",
    "\n",
    "    ks = [stats.ks_2samp(l, p) for l,p in zip(labels, preds)]\n",
    "    auc = [metrics.roc_auc_score(l, p) for l,p in zip(labels, preds)]\n",
    "\n",
    "    dropped = [n[0]-i for i in n]\n",
    "    plots(dropped, [k[0] for k in ks], \"KS\")\n",
    "    plots(dropped, [k[1] for k in ks], \"KS (p-value)\")\n",
    "    plots(dropped, auc, \"AUC\")\n",
    "    plt.legend(loc='lower left')\n",
    "    plt.title(title)\n",
    "    plt.savefig(title+'.png')\n",
    "    plt.show()\n",
    "\n",
    "def plots(x, y, name):\n",
    "    plt.plot(x, y, label=name)\n",
    "    if(name == \"AUC\"):\n",
    "        plt.plot(x, len(x)*[0.5], linestyle='--')\n",
    "    plt.xlabel(\"removed instances\")\n",
    "    plt.grid()"
   ]
  },
  {
   "cell_type": "markdown",
   "metadata": {},
   "source": [
    "## MRS ALGORITHM"
   ]
  },
  {
   "cell_type": "code",
   "execution_count": 8,
   "metadata": {},
   "outputs": [],
   "source": [
    "def temp_sample(softmax, temperature, drop):\n",
    "\n",
    "    EPSILON = 10e-16 # to avoid taking the log of zero\n",
    "    softmax = (np.array(softmax) + EPSILON).astype('float64')\n",
    "    \n",
    "    preds = np.log(softmax) / temperature\n",
    "    exp_preds = np.exp(preds)\n",
    "    preds = exp_preds / np.sum(exp_preds)\n",
    "    probas = np.random.multinomial(drop, preds, 1)\n",
    "\n",
    "    return probas[0]\n",
    "\n",
    "def MRS(data, columns, temperature, n_drop = 20, limit = 50, \n",
    "        ensemble_size = 200, test_size = 0.5, baseline = False):\n",
    "    \n",
    "    data_base = data.copy(deep=True)\n",
    "    \n",
    "    global score\n",
    "    global n\n",
    "    global imp\n",
    "\n",
    "    data = data_base.copy(deep=True)\n",
    "\n",
    "    while (min(len(data[data.label == 1]), \n",
    "               len(data[data.label == 0])) > limit):    \n",
    "        \n",
    "        nonrep = data[data.label == 1].copy(deep=True)\n",
    "        rep = data[data.label == 0].copy(deep=True)\n",
    "        \n",
    "        data = pd.concat([nonrep, rep], sort=True)\n",
    "\n",
    "        train, test = train_test_split(data, test_size=test_size)\n",
    "        test = pd.DataFrame(test)\n",
    "\n",
    "        preds = [0]*len(test)\n",
    "        for _ in range(ensemble_size):\n",
    "\n",
    "            bootstrap = pd.DataFrame(train).sample(len(train), replace=True)\n",
    "            \n",
    "            dt = DecisionTreeClassifier()\n",
    "            depths = np.array([1, 2, 3, 4])\n",
    "            grid = GridSearchCV(cv=3, estimator=dt, iid=True,\n",
    "                                param_grid=dict(max_depth=depths))\n",
    "            grid.fit(bootstrap[columns], bootstrap.label)\n",
    "            \n",
    "            dt = DecisionTreeClassifier(max_depth=grid.best_estimator_.max_depth)\n",
    "            dt.fit(bootstrap[columns], bootstrap.label)\n",
    "            \n",
    "            imp = [i + f for i,f in zip(imp, dt.feature_importances_)]\n",
    "            \n",
    "            prob = [p[1] for p in dt.predict_proba(test[columns])]\n",
    "            preds = [pre + pro for pre,pro in zip(preds, prob)]\n",
    "            \n",
    "        preds = [f/ensemble_size for f in preds]\n",
    "        \n",
    "        score.append((test.label, preds))\n",
    "        n.append(len(data.index))\n",
    "\n",
    "        print(len(data.index), end=', ')\n",
    "\n",
    "        if baseline == True: \n",
    "            preds = [random.random() for _ in preds]\n",
    "\n",
    "        test['removed'] = temp_sample(preds, temperature, n_drop)\n",
    "        test = test[test.removed == 0]\n",
    "        test.drop('removed', axis=1, inplace=True) #inplace?\n",
    "\n",
    "        data = pd.concat([train, test], sort=True)\n",
    "    \n",
    "    #return data"
   ]
  },
  {
   "cell_type": "markdown",
   "metadata": {},
   "source": [
    "- kein pruning stattdessen min anzahl an instanzen.\n",
    "- bootstrap sampling verändern: k=len(gbs) viele aus beiden datensätzen einzeln \n",
    "- nur gbs entfernen.\n",
    "\n",
    "--> nächster Termin: 31.07. Uhr 17Uhr. "
   ]
  },
  {
   "cell_type": "markdown",
   "metadata": {},
   "source": [
    "### US National Census (Income) <a name=\"us\"></a>\n",
    "\n",
    "*About this Dataset*\n",
    "\n",
    "**US Adult Census** (1994) relates income to social factors: \n",
    "\n",
    "- *age*: continuous.\n",
    "- *workclass*: Private, Self-emp-not-inc, Self-emp-inc, Federal-gov, Local-gov, State-gov, Without-pay, Never-worked.\n",
    "- *fnlwgt*: continuous.\n",
    "- *education*: Bachelors, Some-college, 11th, HS-grad, Prof-school, Assoc-acdm, Assoc-voc, 9th, 7th-8th, 12th, Masters, 1st-4th, 10th, Doctorate, 5th-6th, Preschool.\n",
    "- *education-num*: continuous.\n",
    "- *marital-status*: Married-civ-spouse, Divorced, Never-married, Separated, Widowed, Married-spouse-absent, Married-AF-spouse.\n",
    "- *occupation*: Tech-support, Craft-repair, Other-service, Sales, Exec-managerial, Prof-specialty, Handlers-cleaners, Machine-op-inspct, Adm-clerical, Farming-fishing, Transport-moving, Priv-house-serv, Protective-serv, Armed-Forces.\n",
    "- *relationship*: Wife, Own-child, Husband, Not-in-family, Other-relative, Unmarried.\n",
    "- *race*: White, Asian-Pac-Islander, Amer-Indian-Eskimo, Other, Black.\n",
    "- *sex*: Female, Male.\n",
    "- *capital-gain*: continuous.\n",
    "- *capital-loss*: continuous.\n",
    "- *hours-per-week*: continuous.\n",
    "- *native-country*: United-States, Cambodia, England, Puerto-Rico, Canada, Germany, Outlying-US(Guam-USVI-etc), India, Japan, Greece, South, China, Cuba, Iran, Honduras, Philippines, Italy, Poland, Jamaica, Vietnam, Mexico, Portugal, Ireland, France, Dominican-Republic, Laos, Ecuador, Taiwan, Haiti, Columbia, Hungary, Guatemala, Nicaragua, Scotland, Thailand, Yugoslavia, El-Salvador, Trinadad&Tobago, Peru, Hong, Holand-Netherlands.\n",
    "\n",
    "Each row is labelled as either having a salary greater than \">50K\" or \"<=50K\".\n",
    "\n",
    "Note: This Dataset was obtained from the UCI repository, it can be found on\n",
    "\n",
    "https://archive.ics.uci.edu/ml/datasets/census+income, http://mlr.cs.umass.edu/ml/machine-learning-databases/adult/"
   ]
  },
  {
   "cell_type": "code",
   "execution_count": 4,
   "metadata": {},
   "outputs": [
    {
     "name": "stdout",
     "output_type": "stream",
     "text": [
      "Rep: \n",
      "  <=50K    15890\n",
      " >50K      5000\n",
      "Name: Above/Below 50K, dtype: int64 \n",
      "\n",
      "Nonrep: \n",
      "  >50K     6000\n",
      " <=50K    4000\n",
      "Name: Above/Below 50K, dtype: int64\n"
     ]
    },
    {
     "data": {
      "text/html": [
       "<div>\n",
       "<style scoped>\n",
       "    .dataframe tbody tr th:only-of-type {\n",
       "        vertical-align: middle;\n",
       "    }\n",
       "\n",
       "    .dataframe tbody tr th {\n",
       "        vertical-align: top;\n",
       "    }\n",
       "\n",
       "    .dataframe thead th {\n",
       "        text-align: right;\n",
       "    }\n",
       "</style>\n",
       "<table border=\"1\" class=\"dataframe\">\n",
       "  <thead>\n",
       "    <tr style=\"text-align: right;\">\n",
       "      <th></th>\n",
       "      <th>Above/Below 50K</th>\n",
       "      <th>Age</th>\n",
       "      <th>Capital Gain</th>\n",
       "      <th>Capital Loss</th>\n",
       "      <th>Country_ ?</th>\n",
       "      <th>Country_ Cambodia</th>\n",
       "      <th>Country_ Canada</th>\n",
       "      <th>Country_ China</th>\n",
       "      <th>Country_ Columbia</th>\n",
       "      <th>Country_ Cuba</th>\n",
       "      <th>...</th>\n",
       "      <th>Workclass_ Federal-gov</th>\n",
       "      <th>Workclass_ Local-gov</th>\n",
       "      <th>Workclass_ Never-worked</th>\n",
       "      <th>Workclass_ Private</th>\n",
       "      <th>Workclass_ Self-emp-inc</th>\n",
       "      <th>Workclass_ Self-emp-not-inc</th>\n",
       "      <th>Workclass_ State-gov</th>\n",
       "      <th>Workclass_ Without-pay</th>\n",
       "      <th>fnlgwt</th>\n",
       "      <th>label</th>\n",
       "    </tr>\n",
       "  </thead>\n",
       "  <tbody>\n",
       "    <tr>\n",
       "      <th>30257</th>\n",
       "      <td>&lt;=50K</td>\n",
       "      <td>23</td>\n",
       "      <td>0.0</td>\n",
       "      <td>0.0</td>\n",
       "      <td>0</td>\n",
       "      <td>0</td>\n",
       "      <td>0</td>\n",
       "      <td>0</td>\n",
       "      <td>0</td>\n",
       "      <td>0</td>\n",
       "      <td>...</td>\n",
       "      <td>0</td>\n",
       "      <td>0</td>\n",
       "      <td>0</td>\n",
       "      <td>1</td>\n",
       "      <td>0</td>\n",
       "      <td>0</td>\n",
       "      <td>0</td>\n",
       "      <td>0</td>\n",
       "      <td>239375.0</td>\n",
       "      <td>1</td>\n",
       "    </tr>\n",
       "    <tr>\n",
       "      <th>34094</th>\n",
       "      <td>&lt;=50K</td>\n",
       "      <td>40</td>\n",
       "      <td>0.0</td>\n",
       "      <td>0.0</td>\n",
       "      <td>0</td>\n",
       "      <td>0</td>\n",
       "      <td>0</td>\n",
       "      <td>0</td>\n",
       "      <td>0</td>\n",
       "      <td>0</td>\n",
       "      <td>...</td>\n",
       "      <td>0</td>\n",
       "      <td>0</td>\n",
       "      <td>0</td>\n",
       "      <td>1</td>\n",
       "      <td>0</td>\n",
       "      <td>0</td>\n",
       "      <td>0</td>\n",
       "      <td>0</td>\n",
       "      <td>222504.0</td>\n",
       "      <td>1</td>\n",
       "    </tr>\n",
       "    <tr>\n",
       "      <th>15773</th>\n",
       "      <td>&lt;=50K</td>\n",
       "      <td>63</td>\n",
       "      <td>0.0</td>\n",
       "      <td>0.0</td>\n",
       "      <td>0</td>\n",
       "      <td>0</td>\n",
       "      <td>0</td>\n",
       "      <td>0</td>\n",
       "      <td>0</td>\n",
       "      <td>0</td>\n",
       "      <td>...</td>\n",
       "      <td>0</td>\n",
       "      <td>0</td>\n",
       "      <td>0</td>\n",
       "      <td>0</td>\n",
       "      <td>0</td>\n",
       "      <td>0</td>\n",
       "      <td>0</td>\n",
       "      <td>0</td>\n",
       "      <td>156799.0</td>\n",
       "      <td>1</td>\n",
       "    </tr>\n",
       "    <tr>\n",
       "      <th>40503</th>\n",
       "      <td>&lt;=50K</td>\n",
       "      <td>52</td>\n",
       "      <td>0.0</td>\n",
       "      <td>0.0</td>\n",
       "      <td>0</td>\n",
       "      <td>0</td>\n",
       "      <td>0</td>\n",
       "      <td>0</td>\n",
       "      <td>0</td>\n",
       "      <td>0</td>\n",
       "      <td>...</td>\n",
       "      <td>0</td>\n",
       "      <td>0</td>\n",
       "      <td>0</td>\n",
       "      <td>1</td>\n",
       "      <td>0</td>\n",
       "      <td>0</td>\n",
       "      <td>0</td>\n",
       "      <td>0</td>\n",
       "      <td>30908.0</td>\n",
       "      <td>1</td>\n",
       "    </tr>\n",
       "    <tr>\n",
       "      <th>34198</th>\n",
       "      <td>&lt;=50K</td>\n",
       "      <td>23</td>\n",
       "      <td>0.0</td>\n",
       "      <td>0.0</td>\n",
       "      <td>0</td>\n",
       "      <td>0</td>\n",
       "      <td>0</td>\n",
       "      <td>0</td>\n",
       "      <td>0</td>\n",
       "      <td>0</td>\n",
       "      <td>...</td>\n",
       "      <td>0</td>\n",
       "      <td>0</td>\n",
       "      <td>0</td>\n",
       "      <td>1</td>\n",
       "      <td>0</td>\n",
       "      <td>0</td>\n",
       "      <td>0</td>\n",
       "      <td>0</td>\n",
       "      <td>187447.0</td>\n",
       "      <td>1</td>\n",
       "    </tr>\n",
       "  </tbody>\n",
       "</table>\n",
       "<p>5 rows × 110 columns</p>\n",
       "</div>"
      ],
      "text/plain": [
       "      Above/Below 50K Age  Capital Gain  Capital Loss  Country_ ?  \\\n",
       "30257           <=50K  23           0.0           0.0           0   \n",
       "34094           <=50K  40           0.0           0.0           0   \n",
       "15773           <=50K  63           0.0           0.0           0   \n",
       "40503           <=50K  52           0.0           0.0           0   \n",
       "34198           <=50K  23           0.0           0.0           0   \n",
       "\n",
       "       Country_ Cambodia  Country_ Canada  Country_ China  Country_ Columbia  \\\n",
       "30257                  0                0               0                  0   \n",
       "34094                  0                0               0                  0   \n",
       "15773                  0                0               0                  0   \n",
       "40503                  0                0               0                  0   \n",
       "34198                  0                0               0                  0   \n",
       "\n",
       "       Country_ Cuba  ...    Workclass_ Federal-gov  Workclass_ Local-gov  \\\n",
       "30257              0  ...                         0                     0   \n",
       "34094              0  ...                         0                     0   \n",
       "15773              0  ...                         0                     0   \n",
       "40503              0  ...                         0                     0   \n",
       "34198              0  ...                         0                     0   \n",
       "\n",
       "       Workclass_ Never-worked  Workclass_ Private  Workclass_ Self-emp-inc  \\\n",
       "30257                        0                   1                        0   \n",
       "34094                        0                   1                        0   \n",
       "15773                        0                   0                        0   \n",
       "40503                        0                   1                        0   \n",
       "34198                        0                   1                        0   \n",
       "\n",
       "       Workclass_ Self-emp-not-inc  Workclass_ State-gov  \\\n",
       "30257                            0                     0   \n",
       "34094                            0                     0   \n",
       "15773                            0                     0   \n",
       "40503                            0                     0   \n",
       "34198                            0                     0   \n",
       "\n",
       "       Workclass_ Without-pay    fnlgwt  label  \n",
       "30257                       0  239375.0      1  \n",
       "34094                       0  222504.0      1  \n",
       "15773                       0  156799.0      1  \n",
       "40503                       0   30908.0      1  \n",
       "34198                       0  187447.0      1  \n",
       "\n",
       "[5 rows x 110 columns]"
      ]
     },
     "execution_count": 4,
     "metadata": {},
     "output_type": "execute_result"
    }
   ],
   "source": [
    "columns = ['Age','Workclass','fnlgwt','Education','Education Num','Marital Status',\n",
    "           'Occupation','Relationship','Race','Sex','Capital Gain','Capital Loss',\n",
    "           'Hours/Week','Country','Above/Below 50K']\n",
    "\n",
    "train = pd.read_csv(os.path.join(path, 'data/census_income/adult.data'), names=columns)\n",
    "test = pd.read_csv(os.path.join(path, 'data/census_income/adult.test'), names=columns)\n",
    "test = test.iloc[1:]\n",
    "\n",
    "df = pd.concat([train, test]).copy(deep=True)\n",
    "\n",
    "del train, test\n",
    "\n",
    "df.replace(' >50K.', ' >50K', inplace=True)\n",
    "df.replace(' <=50K.', ' <=50K', inplace=True)\n",
    "\n",
    "df.dropna(inplace=True)\n",
    "df.reset_index(inplace=True, drop=True)\n",
    "\n",
    "ctg = ['Workclass', 'Sex', 'Education', 'Marital Status', \n",
    "       'Occupation', 'Relationship', 'Race', 'Country']\n",
    "for c in ctg:\n",
    "    df = pd.concat([df, pd.get_dummies(df[c], \n",
    "                                       prefix=c,\n",
    "                                       dummy_na=False)], axis=1).drop([c],axis=1)\n",
    "\n",
    "'''Rep: <=50K    37155 ;; >50K     11687'''\n",
    "\n",
    "df_high = df[df['Above/Below 50K'] == \" >50K\"].copy(deep=True)\n",
    "df_low = df[df['Above/Below 50K'] == \" <=50K\"].copy(deep=True)\n",
    "\n",
    "df_low = df_low.reindex(np.random.permutation(df_low.index))\n",
    "df_high = df_high.reindex(np.random.permutation(df_high.index))\n",
    "\n",
    "rep = pd.concat([df_low.head(15890).copy(deep=True),\n",
    "                 df_high.head(5000).copy(deep=True)], sort=True)\n",
    "\n",
    "nonrep = pd.concat([df_low.tail(4000).copy(deep=True),\n",
    "                    df_high.tail(6000).copy(deep=True)], sort=True)\n",
    "\n",
    "print('Rep: \\n', rep['Above/Below 50K'].value_counts(), '\\n')\n",
    "print('Nonrep: \\n', nonrep['Above/Below 50K'].value_counts())\n",
    "\n",
    "nonrep['label'] = 1\n",
    "rep['label'] = 0\n",
    "\n",
    "del df, df_low, df_high\n",
    "\n",
    "us = pd.concat([nonrep, rep], sort=True)\n",
    "\n",
    "us_columns = list(us.columns)\n",
    "meta = ['label', 'Above/Below 50K', 'index', 'bootstrap']\n",
    "for m in meta:\n",
    "    if m in us_columns:\n",
    "        us_columns.remove(m)\n",
    "\n",
    "us.head()"
   ]
  },
  {
   "cell_type": "code",
   "execution_count": 9,
   "metadata": {
    "scrolled": true
   },
   "outputs": [
    {
     "data": {
      "text/html": [
       "<div>\n",
       "<style scoped>\n",
       "    .dataframe tbody tr th:only-of-type {\n",
       "        vertical-align: middle;\n",
       "    }\n",
       "\n",
       "    .dataframe tbody tr th {\n",
       "        vertical-align: top;\n",
       "    }\n",
       "\n",
       "    .dataframe thead th {\n",
       "        text-align: right;\n",
       "    }\n",
       "</style>\n",
       "<table border=\"1\" class=\"dataframe\">\n",
       "  <thead>\n",
       "    <tr style=\"text-align: right;\">\n",
       "      <th></th>\n",
       "      <th>Alter</th>\n",
       "      <th>BRS1</th>\n",
       "      <th>BRS2</th>\n",
       "      <th>BRS3</th>\n",
       "      <th>BRS4</th>\n",
       "      <th>BRS5</th>\n",
       "      <th>BRS6</th>\n",
       "      <th>Berufsgruppe</th>\n",
       "      <th>Erwerbstätigkeit</th>\n",
       "      <th>Geschlecht</th>\n",
       "      <th>IE_ext1</th>\n",
       "      <th>IE_ext2</th>\n",
       "      <th>IE_int1</th>\n",
       "      <th>IE_int2</th>\n",
       "      <th>Id</th>\n",
       "      <th>Optimismus</th>\n",
       "      <th>Pessimismus</th>\n",
       "      <th>Schulabschluss</th>\n",
       "      <th>label</th>\n",
       "      <th>woechentlicheArbeitszeit</th>\n",
       "    </tr>\n",
       "  </thead>\n",
       "  <tbody>\n",
       "    <tr>\n",
       "      <th>0</th>\n",
       "      <td>48.0</td>\n",
       "      <td>3.0</td>\n",
       "      <td>2.0</td>\n",
       "      <td>3.0</td>\n",
       "      <td>3.0</td>\n",
       "      <td>3.0</td>\n",
       "      <td>4.0</td>\n",
       "      <td>4.0</td>\n",
       "      <td>1.0</td>\n",
       "      <td>1.0</td>\n",
       "      <td>4.0</td>\n",
       "      <td>4.0</td>\n",
       "      <td>3.0</td>\n",
       "      <td>3.0</td>\n",
       "      <td>GBS+00027</td>\n",
       "      <td>3.0</td>\n",
       "      <td>4.0</td>\n",
       "      <td>3.0</td>\n",
       "      <td>1</td>\n",
       "      <td>4.0</td>\n",
       "    </tr>\n",
       "    <tr>\n",
       "      <th>1</th>\n",
       "      <td>68.0</td>\n",
       "      <td>5.0</td>\n",
       "      <td>1.0</td>\n",
       "      <td>5.0</td>\n",
       "      <td>1.0</td>\n",
       "      <td>5.0</td>\n",
       "      <td>1.0</td>\n",
       "      <td>8.0</td>\n",
       "      <td>1.0</td>\n",
       "      <td>2.0</td>\n",
       "      <td>2.0</td>\n",
       "      <td>1.0</td>\n",
       "      <td>5.0</td>\n",
       "      <td>5.0</td>\n",
       "      <td>GBS+00032</td>\n",
       "      <td>7.0</td>\n",
       "      <td>1.0</td>\n",
       "      <td>5.0</td>\n",
       "      <td>1</td>\n",
       "      <td>1.0</td>\n",
       "    </tr>\n",
       "    <tr>\n",
       "      <th>2</th>\n",
       "      <td>56.0</td>\n",
       "      <td>4.0</td>\n",
       "      <td>4.0</td>\n",
       "      <td>2.0</td>\n",
       "      <td>4.0</td>\n",
       "      <td>2.0</td>\n",
       "      <td>4.0</td>\n",
       "      <td>4.0</td>\n",
       "      <td>1.0</td>\n",
       "      <td>2.0</td>\n",
       "      <td>3.0</td>\n",
       "      <td>3.0</td>\n",
       "      <td>3.0</td>\n",
       "      <td>3.0</td>\n",
       "      <td>GBS+00071</td>\n",
       "      <td>4.0</td>\n",
       "      <td>4.0</td>\n",
       "      <td>3.0</td>\n",
       "      <td>1</td>\n",
       "      <td>3.0</td>\n",
       "    </tr>\n",
       "    <tr>\n",
       "      <th>3</th>\n",
       "      <td>55.0</td>\n",
       "      <td>4.0</td>\n",
       "      <td>2.0</td>\n",
       "      <td>4.0</td>\n",
       "      <td>3.0</td>\n",
       "      <td>4.0</td>\n",
       "      <td>2.0</td>\n",
       "      <td>3.0</td>\n",
       "      <td>1.0</td>\n",
       "      <td>2.0</td>\n",
       "      <td>2.0</td>\n",
       "      <td>2.0</td>\n",
       "      <td>4.0</td>\n",
       "      <td>4.0</td>\n",
       "      <td>GBS+00084</td>\n",
       "      <td>5.0</td>\n",
       "      <td>2.0</td>\n",
       "      <td>4.0</td>\n",
       "      <td>1</td>\n",
       "      <td>3.0</td>\n",
       "    </tr>\n",
       "    <tr>\n",
       "      <th>4</th>\n",
       "      <td>60.0</td>\n",
       "      <td>5.0</td>\n",
       "      <td>2.0</td>\n",
       "      <td>5.0</td>\n",
       "      <td>2.0</td>\n",
       "      <td>5.0</td>\n",
       "      <td>2.0</td>\n",
       "      <td>3.0</td>\n",
       "      <td>1.0</td>\n",
       "      <td>2.0</td>\n",
       "      <td>2.0</td>\n",
       "      <td>2.0</td>\n",
       "      <td>4.0</td>\n",
       "      <td>4.0</td>\n",
       "      <td>GBS+00092</td>\n",
       "      <td>6.0</td>\n",
       "      <td>2.0</td>\n",
       "      <td>5.0</td>\n",
       "      <td>1</td>\n",
       "      <td>5.0</td>\n",
       "    </tr>\n",
       "  </tbody>\n",
       "</table>\n",
       "</div>"
      ],
      "text/plain": [
       "   Alter  BRS1  BRS2  BRS3  BRS4  BRS5  BRS6  Berufsgruppe  Erwerbstätigkeit  \\\n",
       "0   48.0   3.0   2.0   3.0   3.0   3.0   4.0           4.0               1.0   \n",
       "1   68.0   5.0   1.0   5.0   1.0   5.0   1.0           8.0               1.0   \n",
       "2   56.0   4.0   4.0   2.0   4.0   2.0   4.0           4.0               1.0   \n",
       "3   55.0   4.0   2.0   4.0   3.0   4.0   2.0           3.0               1.0   \n",
       "4   60.0   5.0   2.0   5.0   2.0   5.0   2.0           3.0               1.0   \n",
       "\n",
       "   Geschlecht  IE_ext1  IE_ext2  IE_int1  IE_int2         Id  Optimismus  \\\n",
       "0         1.0      4.0      4.0      3.0      3.0  GBS+00027         3.0   \n",
       "1         2.0      2.0      1.0      5.0      5.0  GBS+00032         7.0   \n",
       "2         2.0      3.0      3.0      3.0      3.0  GBS+00071         4.0   \n",
       "3         2.0      2.0      2.0      4.0      4.0  GBS+00084         5.0   \n",
       "4         2.0      2.0      2.0      4.0      4.0  GBS+00092         6.0   \n",
       "\n",
       "   Pessimismus  Schulabschluss  label  woechentlicheArbeitszeit  \n",
       "0          4.0             3.0      1                       4.0  \n",
       "1          1.0             5.0      1                       1.0  \n",
       "2          4.0             3.0      1                       3.0  \n",
       "3          2.0             4.0      1                       3.0  \n",
       "4          2.0             5.0      1                       5.0  "
      ]
     },
     "execution_count": 9,
     "metadata": {},
     "output_type": "execute_result"
    }
   ],
   "source": [
    "allensbach = pd.read_csv(os.path.join(path, 'data/allensbach_mrs.csv'))\n",
    "\n",
    "allensbach.drop(['Unnamed: 0'], axis=1, inplace=True)\n",
    "\n",
    "allensbach_columns = ['BRS1', 'BRS2', 'BRS3', 'BRS4', 'BRS5', 'BRS6', \n",
    "                      'Berufsgruppe', 'Erwerbstätigkeit', 'Geschlecht',\n",
    "                      'Optimismus', 'Pessimismus', 'Schulabschluss', 'woechentlicheArbeitszeit']\n",
    "\n",
    "#profile = allensbach.profile_report(title='Allensbach Profiling Report')\n",
    "#profile.to_file(\"Allensbach data profiling.html\")\n",
    "allensbach.head()"
   ]
  },
  {
   "cell_type": "code",
   "execution_count": 10,
   "metadata": {
    "scrolled": true
   },
   "outputs": [
    {
     "name": "stdout",
     "output_type": "stream",
     "text": [
      "1632, 1631, 1630, 1629, 1628, 1627, 1626, 1625, 1624, 1623, 1622, 1621, 1620, 1619, 1618, 1617, 1616, 1615, 1614, 1613, 1612, 1611, 1610, 1609, 1608, 1607, 1606, 1605, 1604, 1603, 1602, 1601, 1600, 1599, 1598, 1597, 1596, 1595, 1594, 1593, 1592, 1591, 1590, 1589, 1588, 1587, 1586, 1585, 1584, 1583, 1582, 1581, 1580, 1579, 1578, 1577, 1576, 1575, 1574, 1573, 1572, 1571, 1570, 1569, 1568, 1567, 1566, 1565, 1564, 1563, 1562, 1561, 1560, 1559, 1558, 1557, 1556, 1555, 1554, 1553, 1552, 1551, 1550, 1549, 1548, 1547, 1546, 1545, 1544, 1543, 1542, 1541, 1540, 1539, 1538, 1537, 1536, 1535, 1534, 1533, 1532, 1531, 1530, 1529, 1528, 1527, 1526, 1525, 1524, 1523, 1522, 1521, 1520, 1519, 1518, 1517, 1516, 1515, 1514, 1513, 1512, 1511, 1510, 1509, 1508, 1507, 1506, 1505, 1504, 1503, 1502, 1501, 1500, 1499, 1498, 1497, 1496, 1495, 1494, 1493, 1492, 1491, 1490, 1489, 1488, 1487, 1486, 1485, 1484, 1483, 1482, 1481, 1480, 1479, 1478, 1477, 1476, 1475, 1474, 1473, 1472, 1471, 1470, 1469, 1468, 1467, 1466, 1465, 1464, 1463, 1462, 1461, 1460, 1459, 1458, 1457, 1456, 1455, 1454, 1453, 1452, 1451, 1450, 1449, 1448, 1447, 1446, 1445, 1444, 1443, 1442, 1441, 1440, 1439, 1438, 1437, 1436, 1435, 1434, 1433, 1432, 1431, 1430, 1429, 1428, 1427, 1426, 1425, 1424, 1423, 1422, 1421, 1420, 1419, 1418, 1417, 1416, 1415, 1414, 1413, 1412, 1411, 1410, 1409, 1408, 1407, 1406, 1405, 1404, 1403, 1402, 1401, 1400, 1399, 1398, 1397, 1396, 1395, 1394, 1393, 1392, 1391, 1390, 1389, 1388, 1387, 1386, 1385, 1384, 1383, 1382, 1381, 1380, 1379, 1378, 1377, 1376, 1375, 1374, 1373, 1372, 1371, 1370, 1369, 1368, 1367, 1366, 1365, 1364, 1363, 1362, 1361, 1360, 1359, 1358, 1357, 1356, 1355, 1354, 1353, 1352, 1351, 1350, 1349, 1348, 1347, 1346, 1345, 1344, 1343, 1342, 1341, 1340, 1339, 1338, 1337, 1336, 1335, 1334, 1333, 1332, 1331, 1330, 1329, 1328, 1327, 1326, 1325, 1324, 1323, 1322, 1321, 1320, 1319, 1318, 1317, 1316, 1315, 1314, 1313, 1312, 1311, 1310, 1309, 1308, 1307, 1306, 1305, 1304, 1303, 1302, 1301, 1300, 1299, 1298, 1297, 1296, 1295, 1294, 1293, 1292, 1291, 1290, 1289, 1288, 1287, 1286, 1285, 1284, 1283, 1282, 1281, 1280, 1279, 1278, 1277, 1276, 1275, 1274, 1273, 1272, 1271, 1270, 1269, 1268, 1267, 1266, 1265, 1264, 1263, 1262, 1261, 1260, 1259, 1258, 1257, 1256, 1255, 1254, 1253, 1252, 1251, 1250, 1249, 1248, 1247, 1246, 1245, 1244, 1243, 1242, 1241, 1240, 1239, 1238, 1237, 1236, 1235, 1234, 1233, 1232, 1231, 1230, 1229, 1228, 1227, 1226, 1225, 1224, 1223, 1222, 1221, 1220, 1219, 1218, 1217, 1216, 1215, 1214, 1213, 1212, 1211, 1210, 1209, 1208, 1207, 1206, 1205, 1204, 1203, 1202, 1201, 1200, 1199, 1198, 1197, 1196, 1195, 1194, 1193, 1192, 1191, 1190, 1189, 1188, 1187, 1186, 1185, 1184, 1183, 1182, 1181, 1180, 1179, 1178, 1177, 1176, 1175, 1174, 1173, 1172, 1171, 1170, 1169, 1168, 1167, 1166, 1165, 1164, 1163, 1162, 1161, 1160, 1159, 1158, 1157, 1156, 1155, 1154, 1153, 1152, 1151, 1150, 1149, 1148, 1147, 1146, 1145, 1144, 1143, 1142, 1141, 1140, 1139, 1138, 1137, 1136, 1135, 1134, 1133, 1132, 1131, 1130, 1129, 1128, 1127, 1126, 1125, 1124, 1123, 1122, 1121, 1120, 1119, 1118, 1117, 1116, 1115, 1114, 1113, 1112, 1111, 1110, 1109, 1108, 1107, 1106, 1105, 1104, 1103, 1102, 1101, 1100, 1099, 1098, 1097, 1096, 1095, 1094, 1093, 1092, 1091, 1090, 1089, 1088, 1087, 1086, 1085, 1084, 1083, 1082, 1081, 1080, 1079, 1078, 1077, 1076, 1075, 1074, 1073, 1072, 1071, 1070, 1069, 1068, 1067, 1066, 1065, 1064, 1063, 1062, 1061, 1060, 1059, 1058, 1057, 1056, 1055, 1054, 1053, 1052, 1051, 1050, 1049, 1048, 1047, 1046, 1045, 1044, 1043, 1042, 1041, 1040, 1039, 1038, 1037, 1036, 1035, 1034, 1033, 1032, 1031, 1030, 1029, 1028, 1027, 1026, 1025, 1024, 1023, 1022, 1021, 1020, 1019, 1018, 1017, 1016, 1015, 1014, 1013, 1012, 1011, 1010, 1009, 1008, 1007, 1006, 1005, 1004, 1003, 1002, 1001, 1000, 999, 998, 997, 996, 995, 994, 993, 992, 991, 990, 989, 988, 987, 986, 985, 984, 983, 982, 981, 980, 979, 978, 977, 976, 975, 974, 973, 972, 971, 970, 969, 968, 967, 966, 965, 964, 963, 962, 961, 960, 959, 958, 957, 956, 955, 954, 953, 952, 951, 950, 949, 948, 947, 946, 945, 944, 943, 942, 941, 940, 939, 938, 937, 936, 935, 934, 933, 932, 931, 930, 929, 928, 927, 926, 925, 924, 923, 922, 921, 920, 919, 918, 917, 916, 915, 914, 913, 912, 911, 910, 909, 908, 907, 906, 905, 904, 903, 902, 901, 900, 899, 898, 897, 896, 895, 894, 893, 892, 891, 890, 889, 888, 887, 886, 885, 884, 883, 882, 881, 880, 879, 878, 877, 876, 875, 874, 873, 872, 871, 870, 869, 868, 867, 866, 865, 864, 863, 862, 861, 860, 859, 858, 857, 856, 855, 854, 853, 852, 851, 850, 849, 848, 847, 846, 845, 844, 843, 842, 841, 840, 839, 838, 837, 836, 835, 834, 833, 832, 831, 830, 829, 828, 827, 826, 825, 824, 823, 822, 821, 820, 819, 818, 817, 816, 815, 814, 813, 812, 811, 810, 809, 808, 807, "
     ]
    },
    {
     "name": "stderr",
     "output_type": "stream",
     "text": [
      "c:\\users\\laksa\\appdata\\local\\programs\\python\\python36-32\\lib\\site-packages\\sklearn\\model_selection\\_split.py:652: Warning: The least populated class in y has only 2 members, which is too few. The minimum number of members in any class cannot be less than n_splits=3.\n",
      "  % (min_groups, self.n_splits)), Warning)\n"
     ]
    },
    {
     "name": "stdout",
     "output_type": "stream",
     "text": [
      "806, "
     ]
    },
    {
     "name": "stderr",
     "output_type": "stream",
     "text": [
      "c:\\users\\laksa\\appdata\\local\\programs\\python\\python36-32\\lib\\site-packages\\sklearn\\model_selection\\_split.py:652: Warning: The least populated class in y has only 2 members, which is too few. The minimum number of members in any class cannot be less than n_splits=3.\n",
      "  % (min_groups, self.n_splits)), Warning)\n"
     ]
    },
    {
     "name": "stdout",
     "output_type": "stream",
     "text": [
      "805, 804, 803, 802, 801, 800, 799, 798, 797, 796, 795, 794, 793, 792, 791, "
     ]
    },
    {
     "name": "stderr",
     "output_type": "stream",
     "text": [
      "c:\\users\\laksa\\appdata\\local\\programs\\python\\python36-32\\lib\\site-packages\\sklearn\\model_selection\\_split.py:652: Warning: The least populated class in y has only 2 members, which is too few. The minimum number of members in any class cannot be less than n_splits=3.\n",
      "  % (min_groups, self.n_splits)), Warning)\n"
     ]
    },
    {
     "name": "stdout",
     "output_type": "stream",
     "text": [
      "790, 789, 788, 787, 786, 785, 784, 783, 782, 781, 780, 779, 778, 777, 776, 775, 774, 773, 772, 771, 770, 769, 768, 767, 766, 765, 764, 763, "
     ]
    },
    {
     "name": "stderr",
     "output_type": "stream",
     "text": [
      "c:\\users\\laksa\\appdata\\local\\programs\\python\\python36-32\\lib\\site-packages\\sklearn\\model_selection\\_split.py:652: Warning: The least populated class in y has only 2 members, which is too few. The minimum number of members in any class cannot be less than n_splits=3.\n",
      "  % (min_groups, self.n_splits)), Warning)\n"
     ]
    },
    {
     "name": "stdout",
     "output_type": "stream",
     "text": [
      "762, 761, "
     ]
    },
    {
     "name": "stderr",
     "output_type": "stream",
     "text": [
      "c:\\users\\laksa\\appdata\\local\\programs\\python\\python36-32\\lib\\site-packages\\sklearn\\model_selection\\_split.py:652: Warning: The least populated class in y has only 2 members, which is too few. The minimum number of members in any class cannot be less than n_splits=3.\n",
      "  % (min_groups, self.n_splits)), Warning)\n"
     ]
    },
    {
     "name": "stdout",
     "output_type": "stream",
     "text": [
      "760, 759, "
     ]
    },
    {
     "name": "stderr",
     "output_type": "stream",
     "text": [
      "c:\\users\\laksa\\appdata\\local\\programs\\python\\python36-32\\lib\\site-packages\\sklearn\\model_selection\\_split.py:652: Warning: The least populated class in y has only 2 members, which is too few. The minimum number of members in any class cannot be less than n_splits=3.\n",
      "  % (min_groups, self.n_splits)), Warning)\n"
     ]
    },
    {
     "name": "stdout",
     "output_type": "stream",
     "text": [
      "758, "
     ]
    },
    {
     "name": "stderr",
     "output_type": "stream",
     "text": [
      "c:\\users\\laksa\\appdata\\local\\programs\\python\\python36-32\\lib\\site-packages\\sklearn\\model_selection\\_split.py:652: Warning: The least populated class in y has only 2 members, which is too few. The minimum number of members in any class cannot be less than n_splits=3.\n",
      "  % (min_groups, self.n_splits)), Warning)\n"
     ]
    },
    {
     "name": "stdout",
     "output_type": "stream",
     "text": [
      "757, 756, 755, 754, "
     ]
    },
    {
     "name": "stderr",
     "output_type": "stream",
     "text": [
      "c:\\users\\laksa\\appdata\\local\\programs\\python\\python36-32\\lib\\site-packages\\sklearn\\model_selection\\_split.py:652: Warning: The least populated class in y has only 2 members, which is too few. The minimum number of members in any class cannot be less than n_splits=3.\n",
      "  % (min_groups, self.n_splits)), Warning)\n"
     ]
    },
    {
     "name": "stdout",
     "output_type": "stream",
     "text": [
      "753, 752, 751, 750, 749, 748, 747, 746, 745, "
     ]
    },
    {
     "name": "stderr",
     "output_type": "stream",
     "text": [
      "c:\\users\\laksa\\appdata\\local\\programs\\python\\python36-32\\lib\\site-packages\\sklearn\\model_selection\\_split.py:652: Warning: The least populated class in y has only 2 members, which is too few. The minimum number of members in any class cannot be less than n_splits=3.\n",
      "  % (min_groups, self.n_splits)), Warning)\n",
      "c:\\users\\laksa\\appdata\\local\\programs\\python\\python36-32\\lib\\site-packages\\sklearn\\model_selection\\_split.py:652: Warning: The least populated class in y has only 2 members, which is too few. The minimum number of members in any class cannot be less than n_splits=3.\n",
      "  % (min_groups, self.n_splits)), Warning)\n"
     ]
    },
    {
     "name": "stdout",
     "output_type": "stream",
     "text": [
      "744, 743, 742, "
     ]
    },
    {
     "name": "stderr",
     "output_type": "stream",
     "text": [
      "c:\\users\\laksa\\appdata\\local\\programs\\python\\python36-32\\lib\\site-packages\\sklearn\\model_selection\\_split.py:652: Warning: The least populated class in y has only 2 members, which is too few. The minimum number of members in any class cannot be less than n_splits=3.\n",
      "  % (min_groups, self.n_splits)), Warning)\n"
     ]
    },
    {
     "name": "stdout",
     "output_type": "stream",
     "text": [
      "741, 740, 739, 738, 737, "
     ]
    },
    {
     "name": "stderr",
     "output_type": "stream",
     "text": [
      "c:\\users\\laksa\\appdata\\local\\programs\\python\\python36-32\\lib\\site-packages\\sklearn\\model_selection\\_split.py:652: Warning: The least populated class in y has only 2 members, which is too few. The minimum number of members in any class cannot be less than n_splits=3.\n",
      "  % (min_groups, self.n_splits)), Warning)\n"
     ]
    },
    {
     "name": "stdout",
     "output_type": "stream",
     "text": [
      "736, 735, 734, 733, 732, 731, 730, "
     ]
    },
    {
     "name": "stderr",
     "output_type": "stream",
     "text": [
      "c:\\users\\laksa\\appdata\\local\\programs\\python\\python36-32\\lib\\site-packages\\sklearn\\model_selection\\_split.py:652: Warning: The least populated class in y has only 2 members, which is too few. The minimum number of members in any class cannot be less than n_splits=3.\n",
      "  % (min_groups, self.n_splits)), Warning)\n",
      "c:\\users\\laksa\\appdata\\local\\programs\\python\\python36-32\\lib\\site-packages\\sklearn\\model_selection\\_split.py:652: Warning: The least populated class in y has only 1 members, which is too few. The minimum number of members in any class cannot be less than n_splits=3.\n",
      "  % (min_groups, self.n_splits)), Warning)\n",
      "c:\\users\\laksa\\appdata\\local\\programs\\python\\python36-32\\lib\\site-packages\\sklearn\\model_selection\\_split.py:652: Warning: The least populated class in y has only 2 members, which is too few. The minimum number of members in any class cannot be less than n_splits=3.\n",
      "  % (min_groups, self.n_splits)), Warning)\n",
      "c:\\users\\laksa\\appdata\\local\\programs\\python\\python36-32\\lib\\site-packages\\sklearn\\model_selection\\_split.py:652: Warning: The least populated class in y has only 2 members, which is too few. The minimum number of members in any class cannot be less than n_splits=3.\n",
      "  % (min_groups, self.n_splits)), Warning)\n",
      "c:\\users\\laksa\\appdata\\local\\programs\\python\\python36-32\\lib\\site-packages\\sklearn\\model_selection\\_split.py:652: Warning: The least populated class in y has only 1 members, which is too few. The minimum number of members in any class cannot be less than n_splits=3.\n",
      "  % (min_groups, self.n_splits)), Warning)\n",
      "c:\\users\\laksa\\appdata\\local\\programs\\python\\python36-32\\lib\\site-packages\\sklearn\\model_selection\\_split.py:652: Warning: The least populated class in y has only 1 members, which is too few. The minimum number of members in any class cannot be less than n_splits=3.\n",
      "  % (min_groups, self.n_splits)), Warning)\n",
      "c:\\users\\laksa\\appdata\\local\\programs\\python\\python36-32\\lib\\site-packages\\sklearn\\model_selection\\_split.py:652: Warning: The least populated class in y has only 2 members, which is too few. The minimum number of members in any class cannot be less than n_splits=3.\n",
      "  % (min_groups, self.n_splits)), Warning)\n",
      "c:\\users\\laksa\\appdata\\local\\programs\\python\\python36-32\\lib\\site-packages\\sklearn\\model_selection\\_split.py:652: Warning: The least populated class in y has only 2 members, which is too few. The minimum number of members in any class cannot be less than n_splits=3.\n",
      "  % (min_groups, self.n_splits)), Warning)\n"
     ]
    },
    {
     "name": "stdout",
     "output_type": "stream",
     "text": [
      "729, "
     ]
    },
    {
     "name": "stderr",
     "output_type": "stream",
     "text": [
      "c:\\users\\laksa\\appdata\\local\\programs\\python\\python36-32\\lib\\site-packages\\sklearn\\model_selection\\_split.py:652: Warning: The least populated class in y has only 2 members, which is too few. The minimum number of members in any class cannot be less than n_splits=3.\n",
      "  % (min_groups, self.n_splits)), Warning)\n",
      "c:\\users\\laksa\\appdata\\local\\programs\\python\\python36-32\\lib\\site-packages\\sklearn\\model_selection\\_split.py:652: Warning: The least populated class in y has only 1 members, which is too few. The minimum number of members in any class cannot be less than n_splits=3.\n",
      "  % (min_groups, self.n_splits)), Warning)\n",
      "c:\\users\\laksa\\appdata\\local\\programs\\python\\python36-32\\lib\\site-packages\\sklearn\\model_selection\\_split.py:652: Warning: The least populated class in y has only 1 members, which is too few. The minimum number of members in any class cannot be less than n_splits=3.\n",
      "  % (min_groups, self.n_splits)), Warning)\n"
     ]
    },
    {
     "name": "stdout",
     "output_type": "stream",
     "text": [
      "728, 727, 726, 725, 724, 723, "
     ]
    },
    {
     "name": "stderr",
     "output_type": "stream",
     "text": [
      "c:\\users\\laksa\\appdata\\local\\programs\\python\\python36-32\\lib\\site-packages\\sklearn\\model_selection\\_split.py:652: Warning: The least populated class in y has only 2 members, which is too few. The minimum number of members in any class cannot be less than n_splits=3.\n",
      "  % (min_groups, self.n_splits)), Warning)\n",
      "c:\\users\\laksa\\appdata\\local\\programs\\python\\python36-32\\lib\\site-packages\\sklearn\\model_selection\\_split.py:652: Warning: The least populated class in y has only 2 members, which is too few. The minimum number of members in any class cannot be less than n_splits=3.\n",
      "  % (min_groups, self.n_splits)), Warning)\n"
     ]
    },
    {
     "name": "stdout",
     "output_type": "stream",
     "text": [
      "722, 721, 720, 719, 718, "
     ]
    },
    {
     "name": "stderr",
     "output_type": "stream",
     "text": [
      "c:\\users\\laksa\\appdata\\local\\programs\\python\\python36-32\\lib\\site-packages\\sklearn\\model_selection\\_split.py:652: Warning: The least populated class in y has only 2 members, which is too few. The minimum number of members in any class cannot be less than n_splits=3.\n",
      "  % (min_groups, self.n_splits)), Warning)\n",
      "c:\\users\\laksa\\appdata\\local\\programs\\python\\python36-32\\lib\\site-packages\\sklearn\\model_selection\\_split.py:652: Warning: The least populated class in y has only 2 members, which is too few. The minimum number of members in any class cannot be less than n_splits=3.\n",
      "  % (min_groups, self.n_splits)), Warning)\n"
     ]
    },
    {
     "name": "stdout",
     "output_type": "stream",
     "text": [
      "717, 716, 715, 714, 713, "
     ]
    },
    {
     "name": "stderr",
     "output_type": "stream",
     "text": [
      "c:\\users\\laksa\\appdata\\local\\programs\\python\\python36-32\\lib\\site-packages\\sklearn\\model_selection\\_split.py:652: Warning: The least populated class in y has only 1 members, which is too few. The minimum number of members in any class cannot be less than n_splits=3.\n",
      "  % (min_groups, self.n_splits)), Warning)\n",
      "c:\\users\\laksa\\appdata\\local\\programs\\python\\python36-32\\lib\\site-packages\\sklearn\\model_selection\\_split.py:652: Warning: The least populated class in y has only 2 members, which is too few. The minimum number of members in any class cannot be less than n_splits=3.\n",
      "  % (min_groups, self.n_splits)), Warning)\n",
      "c:\\users\\laksa\\appdata\\local\\programs\\python\\python36-32\\lib\\site-packages\\sklearn\\model_selection\\_split.py:652: Warning: The least populated class in y has only 2 members, which is too few. The minimum number of members in any class cannot be less than n_splits=3.\n",
      "  % (min_groups, self.n_splits)), Warning)\n",
      "c:\\users\\laksa\\appdata\\local\\programs\\python\\python36-32\\lib\\site-packages\\sklearn\\model_selection\\_split.py:652: Warning: The least populated class in y has only 2 members, which is too few. The minimum number of members in any class cannot be less than n_splits=3.\n",
      "  % (min_groups, self.n_splits)), Warning)\n",
      "c:\\users\\laksa\\appdata\\local\\programs\\python\\python36-32\\lib\\site-packages\\sklearn\\model_selection\\_split.py:652: Warning: The least populated class in y has only 2 members, which is too few. The minimum number of members in any class cannot be less than n_splits=3.\n",
      "  % (min_groups, self.n_splits)), Warning)\n"
     ]
    },
    {
     "name": "stdout",
     "output_type": "stream",
     "text": [
      "712, 711, 710, 709, "
     ]
    },
    {
     "name": "stderr",
     "output_type": "stream",
     "text": [
      "c:\\users\\laksa\\appdata\\local\\programs\\python\\python36-32\\lib\\site-packages\\sklearn\\model_selection\\_split.py:652: Warning: The least populated class in y has only 2 members, which is too few. The minimum number of members in any class cannot be less than n_splits=3.\n",
      "  % (min_groups, self.n_splits)), Warning)\n",
      "c:\\users\\laksa\\appdata\\local\\programs\\python\\python36-32\\lib\\site-packages\\sklearn\\model_selection\\_split.py:652: Warning: The least populated class in y has only 2 members, which is too few. The minimum number of members in any class cannot be less than n_splits=3.\n",
      "  % (min_groups, self.n_splits)), Warning)\n"
     ]
    },
    {
     "name": "stdout",
     "output_type": "stream",
     "text": [
      "708, 707, 706, 705, 704, 703, "
     ]
    }
   ],
   "source": [
    "score = []\n",
    "n = []\n",
    "imp = [0]*len(allensbach_columns)\n",
    "\n",
    "MRS(data=allensbach, columns=allensbach_columns, temperature=0.2, n_drop=1, limit=20)"
   ]
  },
  {
   "cell_type": "code",
   "execution_count": 5,
   "metadata": {},
   "outputs": [
    {
     "name": "stdout",
     "output_type": "stream",
     "text": [
      "30890, 30695, 30503, 30311, 30116, 29921, 29724, 29535, 29341, 29151, 28961, 28770, 28581, 28387, 28192, 28005, 27811, 27621, 27432, 27243, 27050, 26862, 26670, 26477, 26282, 26103, 25909, 25722, 25527, 25334, 25146, 24957, 24764, 24571, 24388, 24196, 24009, 23815, 23628, 23443, 23250, 23062, 22874, 22685, 22502, 22325, 22136, 21951, 21766, 21577, 21388, 21196, 21006, 20815, 20625, 20434, 20246, 20054, 19862, 19680, 19500, 19317, 19127, 18947, 18758, 18578, 18402, 18215, 18024, 17841, 17657, 17464, 17278, 17090, 16904, 16720, 16541, 16358, 16166, 15984, 15804, 15626, 15446, 15269, 15090, 14917, 14736, 14554, 14369, 14201, 14046, 13858, 13673, 13486, 13295, 13109, 12929, 12743, 12551, 12378, 12189, 12013, 11839, 11667, 11482, 11300, 11122, 10941, 10763, 10575, 10391, 10207, 10021, 9837, 9683, 9491, 9310, 9114, 8950, 8782, 8609, 8428, 8257, 8094, 7916, 7737, 7558, 7386, 7221, 7052, 6869, 6698, 6518, 6336, 6151, 5976, 5795, 5628, 5472, 5303, 5145, 4985, 4812, 4661, 4522, 4366, 4257, 4108, 3966, 3827, 3672, 3499, 3338, 3182, 3062, "
     ]
    }
   ],
   "source": [
    "score = []\n",
    "n = []\n",
    "imp = [0]*len(us_columns)\n",
    "\n",
    "MRS(data=us, columns=us_columns, temperature=0.2, n_drop=200, limit=600)"
   ]
  },
  {
   "cell_type": "code",
   "execution_count": 11,
   "metadata": {
    "scrolled": true
   },
   "outputs": [
    {
     "data": {
      "image/png": "[encoded data removed]",
      "text/plain": [
       "<Figure size 432x288 with 1 Axes>"
      ]
     },
     "metadata": {
      "needs_background": "light"
     },
     "output_type": "display_data"
    }
   ],
   "source": [
    "plot_results(score, n, 'Allensbach_withCV')"
   ]
  },
  {
   "cell_type": "code",
   "execution_count": 12,
   "metadata": {},
   "outputs": [
    {
     "data": {
      "image/png": "[encoded data removed]",
      "text/plain": [
       "<Figure size 432x288 with 1 Axes>"
      ]
     },
     "metadata": {
      "needs_background": "light"
     },
     "output_type": "display_data"
    }
   ],
   "source": [
    "y_pos = np.arange(len(allensbach_columns))\n",
    "\n",
    "plt.bar(y_pos, imp, align='center', alpha=0.5)\n",
    "plt.xticks(y_pos, allensbach_columns, rotation=90)\n",
    "plt.ylabel('Importance')\n",
    "plt.title('Allensbach - GBS Feature Importance')\n",
    "plt.show()"
   ]
  },
  {
   "cell_type": "code",
   "execution_count": null,
   "metadata": {},
   "outputs": [],
   "source": []
  }
 ],
 "metadata": {
  "kernelspec": {
   "display_name": "Python 3",
   "language": "python",
   "name": "python3"
  },
  "language_info": {
   "codemirror_mode": {
    "name": "ipython",
    "version": 3
   },
   "file_extension": ".py",
   "mimetype": "text/x-python",
   "name": "python",
   "nbconvert_exporter": "python",
   "pygments_lexer": "ipython3",
   "version": "3.6.5"
  }
 },
 "nbformat": 4,
 "nbformat_minor": 2
}
